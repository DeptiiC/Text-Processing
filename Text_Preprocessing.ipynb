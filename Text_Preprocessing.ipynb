{
  "nbformat": 4,
  "nbformat_minor": 0,
  "metadata": {
    "colab": {
      "name": "Assignment-07-Text Analytics.ipynb",
      "provenance": []
    },
    "kernelspec": {
      "name": "python3",
      "display_name": "Python 3"
    },
    "language_info": {
      "name": "python"
    }
  },
  "cells": [
    {
      "cell_type": "markdown",
      "source": [
        "# Text Preprocessing"
      ],
      "metadata": {
        "id": "nDHsId_NRx6K"
      }
    },
    {
      "cell_type": "markdown",
      "source": [
        "In any machine learning task or data science project life cycle, data preprocessing and cleaning is a crucial step. Textual data is highly unstructured and preprocessing such data is even mmore important. \n",
        "Natural Language Processing techniques helps us in extracting meaningful information from from raw data and analyzing and modelling huge natural language data.\n",
        "Text Preprocessing is a technique used under NLP for cleaning and preparing the data for modelling and analysis.Some important text preprocessing steps are as follows.\n",
        "*   Tokenization\n",
        "*   Stopwords Removal\n",
        "*   Stemming\n",
        "*   Lemmatization\n",
        "*   Part of Speech Tagging\n",
        "\n",
        "\n",
        "\n",
        "\n",
        "\n",
        "\n"
      ],
      "metadata": {
        "id": "Kt-sPmJ9SVjT"
      }
    },
    {
      "cell_type": "markdown",
      "source": [
        "For this example we will use a sample tweets dataset. "
      ],
      "metadata": {
        "id": "f2aBw5TWYHv2"
      }
    },
    {
      "cell_type": "code",
      "execution_count": 2,
      "metadata": {
        "id": "LJ2n6mVkRhUr"
      },
      "outputs": [],
      "source": [
        "#Importing required libraries\n",
        "import numpy as np\n",
        "import pandas as pd\n",
        "import re\n",
        "import nltk\n",
        "import spacy\n",
        "import string"
      ]
    },
    {
      "cell_type": "code",
      "source": [
        "#Loding data from csv\n",
        "df = pd.read_csv(\"/content/drive/MyDrive/Data/tweets-dataset.csv\")"
      ],
      "metadata": {
        "id": "Wb21fjxfY56s"
      },
      "execution_count": 18,
      "outputs": []
    },
    {
      "cell_type": "code",
      "source": [
        "df.head()"
      ],
      "metadata": {
        "colab": {
          "base_uri": "https://localhost:8080/",
          "height": 337
        },
        "id": "xrK3TikhZeC9",
        "outputId": "ff67880b-0c1a-4332-dc61-9153b42a795b"
      },
      "execution_count": 19,
      "outputs": [
        {
          "output_type": "execute_result",
          "data": {
            "text/html": [
              "\n",
              "  <div id=\"df-06b6fe23-32bd-425a-b476-0ecd87ce5856\">\n",
              "    <div class=\"colab-df-container\">\n",
              "      <div>\n",
              "<style scoped>\n",
              "    .dataframe tbody tr th:only-of-type {\n",
              "        vertical-align: middle;\n",
              "    }\n",
              "\n",
              "    .dataframe tbody tr th {\n",
              "        vertical-align: top;\n",
              "    }\n",
              "\n",
              "    .dataframe thead th {\n",
              "        text-align: right;\n",
              "    }\n",
              "</style>\n",
              "<table border=\"1\" class=\"dataframe\">\n",
              "  <thead>\n",
              "    <tr style=\"text-align: right;\">\n",
              "      <th></th>\n",
              "      <th>tweet_id</th>\n",
              "      <th>author_id</th>\n",
              "      <th>inbound</th>\n",
              "      <th>created_at</th>\n",
              "      <th>text</th>\n",
              "      <th>response_tweet_id</th>\n",
              "      <th>in_response_to_tweet_id</th>\n",
              "    </tr>\n",
              "  </thead>\n",
              "  <tbody>\n",
              "    <tr>\n",
              "      <th>0</th>\n",
              "      <td>119237</td>\n",
              "      <td>105834</td>\n",
              "      <td>True</td>\n",
              "      <td>Wed Oct 11 06:55:44 +0000 2017</td>\n",
              "      <td>@AppleSupport causing the reply to be disregarded and the tapped notification under the keyboard is opened😡😡😡</td>\n",
              "      <td>119236</td>\n",
              "      <td>NaN</td>\n",
              "    </tr>\n",
              "    <tr>\n",
              "      <th>1</th>\n",
              "      <td>119238</td>\n",
              "      <td>ChaseSupport</td>\n",
              "      <td>False</td>\n",
              "      <td>Wed Oct 11 13:25:49 +0000 2017</td>\n",
              "      <td>@105835 Your business means a lot to us. Please DM your name, zip code and additional details about your concern. ^RR https://t.co/znUu1VJn9r</td>\n",
              "      <td>NaN</td>\n",
              "      <td>119239.0</td>\n",
              "    </tr>\n",
              "    <tr>\n",
              "      <th>2</th>\n",
              "      <td>119239</td>\n",
              "      <td>105835</td>\n",
              "      <td>True</td>\n",
              "      <td>Wed Oct 11 13:00:09 +0000 2017</td>\n",
              "      <td>@76328 I really hope you all change but I'm sure you won't! Because you don't have to!</td>\n",
              "      <td>119238</td>\n",
              "      <td>NaN</td>\n",
              "    </tr>\n",
              "    <tr>\n",
              "      <th>3</th>\n",
              "      <td>119240</td>\n",
              "      <td>VirginTrains</td>\n",
              "      <td>False</td>\n",
              "      <td>Tue Oct 10 15:16:08 +0000 2017</td>\n",
              "      <td>@105836 LiveChat is online at the moment - https://t.co/SY94VtU8Kq or contact 03331 031 031 option 1, 4, 3 (Leave a message) to request a call back</td>\n",
              "      <td>119241</td>\n",
              "      <td>119242.0</td>\n",
              "    </tr>\n",
              "    <tr>\n",
              "      <th>4</th>\n",
              "      <td>119241</td>\n",
              "      <td>105836</td>\n",
              "      <td>True</td>\n",
              "      <td>Tue Oct 10 15:17:21 +0000 2017</td>\n",
              "      <td>@VirginTrains see attached error message. I've tried leaving a voicemail several times in the past week https://t.co/NxVZjlYx1k</td>\n",
              "      <td>119243</td>\n",
              "      <td>119240.0</td>\n",
              "    </tr>\n",
              "  </tbody>\n",
              "</table>\n",
              "</div>\n",
              "      <button class=\"colab-df-convert\" onclick=\"convertToInteractive('df-06b6fe23-32bd-425a-b476-0ecd87ce5856')\"\n",
              "              title=\"Convert this dataframe to an interactive table.\"\n",
              "              style=\"display:none;\">\n",
              "        \n",
              "  <svg xmlns=\"http://www.w3.org/2000/svg\" height=\"24px\"viewBox=\"0 0 24 24\"\n",
              "       width=\"24px\">\n",
              "    <path d=\"M0 0h24v24H0V0z\" fill=\"none\"/>\n",
              "    <path d=\"M18.56 5.44l.94 2.06.94-2.06 2.06-.94-2.06-.94-.94-2.06-.94 2.06-2.06.94zm-11 1L8.5 8.5l.94-2.06 2.06-.94-2.06-.94L8.5 2.5l-.94 2.06-2.06.94zm10 10l.94 2.06.94-2.06 2.06-.94-2.06-.94-.94-2.06-.94 2.06-2.06.94z\"/><path d=\"M17.41 7.96l-1.37-1.37c-.4-.4-.92-.59-1.43-.59-.52 0-1.04.2-1.43.59L10.3 9.45l-7.72 7.72c-.78.78-.78 2.05 0 2.83L4 21.41c.39.39.9.59 1.41.59.51 0 1.02-.2 1.41-.59l7.78-7.78 2.81-2.81c.8-.78.8-2.07 0-2.86zM5.41 20L4 18.59l7.72-7.72 1.47 1.35L5.41 20z\"/>\n",
              "  </svg>\n",
              "      </button>\n",
              "      \n",
              "  <style>\n",
              "    .colab-df-container {\n",
              "      display:flex;\n",
              "      flex-wrap:wrap;\n",
              "      gap: 12px;\n",
              "    }\n",
              "\n",
              "    .colab-df-convert {\n",
              "      background-color: #E8F0FE;\n",
              "      border: none;\n",
              "      border-radius: 50%;\n",
              "      cursor: pointer;\n",
              "      display: none;\n",
              "      fill: #1967D2;\n",
              "      height: 32px;\n",
              "      padding: 0 0 0 0;\n",
              "      width: 32px;\n",
              "    }\n",
              "\n",
              "    .colab-df-convert:hover {\n",
              "      background-color: #E2EBFA;\n",
              "      box-shadow: 0px 1px 2px rgba(60, 64, 67, 0.3), 0px 1px 3px 1px rgba(60, 64, 67, 0.15);\n",
              "      fill: #174EA6;\n",
              "    }\n",
              "\n",
              "    [theme=dark] .colab-df-convert {\n",
              "      background-color: #3B4455;\n",
              "      fill: #D2E3FC;\n",
              "    }\n",
              "\n",
              "    [theme=dark] .colab-df-convert:hover {\n",
              "      background-color: #434B5C;\n",
              "      box-shadow: 0px 1px 3px 1px rgba(0, 0, 0, 0.15);\n",
              "      filter: drop-shadow(0px 1px 2px rgba(0, 0, 0, 0.3));\n",
              "      fill: #FFFFFF;\n",
              "    }\n",
              "  </style>\n",
              "\n",
              "      <script>\n",
              "        const buttonEl =\n",
              "          document.querySelector('#df-06b6fe23-32bd-425a-b476-0ecd87ce5856 button.colab-df-convert');\n",
              "        buttonEl.style.display =\n",
              "          google.colab.kernel.accessAllowed ? 'block' : 'none';\n",
              "\n",
              "        async function convertToInteractive(key) {\n",
              "          const element = document.querySelector('#df-06b6fe23-32bd-425a-b476-0ecd87ce5856');\n",
              "          const dataTable =\n",
              "            await google.colab.kernel.invokeFunction('convertToInteractive',\n",
              "                                                     [key], {});\n",
              "          if (!dataTable) return;\n",
              "\n",
              "          const docLinkHtml = 'Like what you see? Visit the ' +\n",
              "            '<a target=\"_blank\" href=https://colab.research.google.com/notebooks/data_table.ipynb>data table notebook</a>'\n",
              "            + ' to learn more about interactive tables.';\n",
              "          element.innerHTML = '';\n",
              "          dataTable['output_type'] = 'display_data';\n",
              "          await google.colab.output.renderOutput(dataTable, element);\n",
              "          const docLink = document.createElement('div');\n",
              "          docLink.innerHTML = docLinkHtml;\n",
              "          element.appendChild(docLink);\n",
              "        }\n",
              "      </script>\n",
              "    </div>\n",
              "  </div>\n",
              "  "
            ],
            "text/plain": [
              "   tweet_id     author_id  inbound                      created_at  \\\n",
              "0    119237        105834     True  Wed Oct 11 06:55:44 +0000 2017   \n",
              "1    119238  ChaseSupport    False  Wed Oct 11 13:25:49 +0000 2017   \n",
              "2    119239        105835     True  Wed Oct 11 13:00:09 +0000 2017   \n",
              "3    119240  VirginTrains    False  Tue Oct 10 15:16:08 +0000 2017   \n",
              "4    119241        105836     True  Tue Oct 10 15:17:21 +0000 2017   \n",
              "\n",
              "                                                                                                                                                  text  \\\n",
              "0                                        @AppleSupport causing the reply to be disregarded and the tapped notification under the keyboard is opened😡😡😡   \n",
              "1        @105835 Your business means a lot to us. Please DM your name, zip code and additional details about your concern. ^RR https://t.co/znUu1VJn9r   \n",
              "2                                                               @76328 I really hope you all change but I'm sure you won't! Because you don't have to!   \n",
              "3  @105836 LiveChat is online at the moment - https://t.co/SY94VtU8Kq or contact 03331 031 031 option 1, 4, 3 (Leave a message) to request a call back   \n",
              "4                      @VirginTrains see attached error message. I've tried leaving a voicemail several times in the past week https://t.co/NxVZjlYx1k   \n",
              "\n",
              "  response_tweet_id  in_response_to_tweet_id  \n",
              "0            119236                      NaN  \n",
              "1               NaN                 119239.0  \n",
              "2            119238                      NaN  \n",
              "3            119241                 119242.0  \n",
              "4            119243                 119240.0  "
            ]
          },
          "metadata": {},
          "execution_count": 19
        }
      ]
    },
    {
      "cell_type": "code",
      "source": [
        "df.shape"
      ],
      "metadata": {
        "colab": {
          "base_uri": "https://localhost:8080/"
        },
        "id": "0NUonDB8Zl3C",
        "outputId": "c8435d9e-42a3-400b-e3b8-c52da9d44f67"
      },
      "execution_count": 20,
      "outputs": [
        {
          "output_type": "execute_result",
          "data": {
            "text/plain": [
              "(93, 7)"
            ]
          },
          "metadata": {},
          "execution_count": 20
        }
      ]
    },
    {
      "cell_type": "code",
      "source": [
        "tweet_text = df.drop(['tweet_id','author_id','inbound','created_at','response_tweet_id','in_response_to_tweet_id'],axis=1)"
      ],
      "metadata": {
        "id": "reUQ5d3uZbh9"
      },
      "execution_count": 21,
      "outputs": []
    },
    {
      "cell_type": "code",
      "source": [
        "pd.set_option('display.max_colwidth', None)"
      ],
      "metadata": {
        "id": "3V27GeRxaQfo"
      },
      "execution_count": 22,
      "outputs": []
    },
    {
      "cell_type": "code",
      "source": [
        "tweet_text"
      ],
      "metadata": {
        "colab": {
          "base_uri": "https://localhost:8080/",
          "height": 423
        },
        "id": "z9uBiwrWaBlH",
        "outputId": "3a89a8dd-be1c-4e13-888f-05dba6a31249"
      },
      "execution_count": 25,
      "outputs": [
        {
          "output_type": "execute_result",
          "data": {
            "text/html": [
              "\n",
              "  <div id=\"df-0b05e5ab-8054-4f69-a33c-4aa9112d5a7c\">\n",
              "    <div class=\"colab-df-container\">\n",
              "      <div>\n",
              "<style scoped>\n",
              "    .dataframe tbody tr th:only-of-type {\n",
              "        vertical-align: middle;\n",
              "    }\n",
              "\n",
              "    .dataframe tbody tr th {\n",
              "        vertical-align: top;\n",
              "    }\n",
              "\n",
              "    .dataframe thead th {\n",
              "        text-align: right;\n",
              "    }\n",
              "</style>\n",
              "<table border=\"1\" class=\"dataframe\">\n",
              "  <thead>\n",
              "    <tr style=\"text-align: right;\">\n",
              "      <th></th>\n",
              "      <th>text</th>\n",
              "    </tr>\n",
              "  </thead>\n",
              "  <tbody>\n",
              "    <tr>\n",
              "      <th>0</th>\n",
              "      <td>@AppleSupport causing the reply to be disregarded and the tapped notification under the keyboard is opened😡😡😡</td>\n",
              "    </tr>\n",
              "    <tr>\n",
              "      <th>1</th>\n",
              "      <td>@105835 Your business means a lot to us. Please DM your name, zip code and additional details about your concern. ^RR https://t.co/znUu1VJn9r</td>\n",
              "    </tr>\n",
              "    <tr>\n",
              "      <th>2</th>\n",
              "      <td>@76328 I really hope you all change but I'm sure you won't! Because you don't have to!</td>\n",
              "    </tr>\n",
              "    <tr>\n",
              "      <th>3</th>\n",
              "      <td>@105836 LiveChat is online at the moment - https://t.co/SY94VtU8Kq or contact 03331 031 031 option 1, 4, 3 (Leave a message) to request a call back</td>\n",
              "    </tr>\n",
              "    <tr>\n",
              "      <th>4</th>\n",
              "      <td>@VirginTrains see attached error message. I've tried leaving a voicemail several times in the past week https://t.co/NxVZjlYx1k</td>\n",
              "    </tr>\n",
              "    <tr>\n",
              "      <th>...</th>\n",
              "      <td>...</td>\n",
              "    </tr>\n",
              "    <tr>\n",
              "      <th>88</th>\n",
              "      <td>@105860 I wish Amazon had an option of where I can just get it shipped to the ups store so I can avoid a lot of the struggle</td>\n",
              "    </tr>\n",
              "    <tr>\n",
              "      <th>89</th>\n",
              "      <td>They reschedule my shit for tomorrow https://t.co/RsvZcT982t</td>\n",
              "    </tr>\n",
              "    <tr>\n",
              "      <th>90</th>\n",
              "      <td>@105861 Hey Sara, sorry to hear of the issues you are having, can I ask if it's the lay out or just the speed of the website responding? TY - Chris</td>\n",
              "    </tr>\n",
              "    <tr>\n",
              "      <th>91</th>\n",
              "      <td>@Tesco bit of both - finding the layout cumbersome and when removing an item from faves - getting a huge slowdown. Not keen on the thin green line https://t.co/9281OKEebk</td>\n",
              "    </tr>\n",
              "    <tr>\n",
              "      <th>92</th>\n",
              "      <td>@105861 If that doesn't help please DM your full name, address and email including the browser and device so we can log this. Thanks - Lee 2/2</td>\n",
              "    </tr>\n",
              "  </tbody>\n",
              "</table>\n",
              "<p>93 rows × 1 columns</p>\n",
              "</div>\n",
              "      <button class=\"colab-df-convert\" onclick=\"convertToInteractive('df-0b05e5ab-8054-4f69-a33c-4aa9112d5a7c')\"\n",
              "              title=\"Convert this dataframe to an interactive table.\"\n",
              "              style=\"display:none;\">\n",
              "        \n",
              "  <svg xmlns=\"http://www.w3.org/2000/svg\" height=\"24px\"viewBox=\"0 0 24 24\"\n",
              "       width=\"24px\">\n",
              "    <path d=\"M0 0h24v24H0V0z\" fill=\"none\"/>\n",
              "    <path d=\"M18.56 5.44l.94 2.06.94-2.06 2.06-.94-2.06-.94-.94-2.06-.94 2.06-2.06.94zm-11 1L8.5 8.5l.94-2.06 2.06-.94-2.06-.94L8.5 2.5l-.94 2.06-2.06.94zm10 10l.94 2.06.94-2.06 2.06-.94-2.06-.94-.94-2.06-.94 2.06-2.06.94z\"/><path d=\"M17.41 7.96l-1.37-1.37c-.4-.4-.92-.59-1.43-.59-.52 0-1.04.2-1.43.59L10.3 9.45l-7.72 7.72c-.78.78-.78 2.05 0 2.83L4 21.41c.39.39.9.59 1.41.59.51 0 1.02-.2 1.41-.59l7.78-7.78 2.81-2.81c.8-.78.8-2.07 0-2.86zM5.41 20L4 18.59l7.72-7.72 1.47 1.35L5.41 20z\"/>\n",
              "  </svg>\n",
              "      </button>\n",
              "      \n",
              "  <style>\n",
              "    .colab-df-container {\n",
              "      display:flex;\n",
              "      flex-wrap:wrap;\n",
              "      gap: 12px;\n",
              "    }\n",
              "\n",
              "    .colab-df-convert {\n",
              "      background-color: #E8F0FE;\n",
              "      border: none;\n",
              "      border-radius: 50%;\n",
              "      cursor: pointer;\n",
              "      display: none;\n",
              "      fill: #1967D2;\n",
              "      height: 32px;\n",
              "      padding: 0 0 0 0;\n",
              "      width: 32px;\n",
              "    }\n",
              "\n",
              "    .colab-df-convert:hover {\n",
              "      background-color: #E2EBFA;\n",
              "      box-shadow: 0px 1px 2px rgba(60, 64, 67, 0.3), 0px 1px 3px 1px rgba(60, 64, 67, 0.15);\n",
              "      fill: #174EA6;\n",
              "    }\n",
              "\n",
              "    [theme=dark] .colab-df-convert {\n",
              "      background-color: #3B4455;\n",
              "      fill: #D2E3FC;\n",
              "    }\n",
              "\n",
              "    [theme=dark] .colab-df-convert:hover {\n",
              "      background-color: #434B5C;\n",
              "      box-shadow: 0px 1px 3px 1px rgba(0, 0, 0, 0.15);\n",
              "      filter: drop-shadow(0px 1px 2px rgba(0, 0, 0, 0.3));\n",
              "      fill: #FFFFFF;\n",
              "    }\n",
              "  </style>\n",
              "\n",
              "      <script>\n",
              "        const buttonEl =\n",
              "          document.querySelector('#df-0b05e5ab-8054-4f69-a33c-4aa9112d5a7c button.colab-df-convert');\n",
              "        buttonEl.style.display =\n",
              "          google.colab.kernel.accessAllowed ? 'block' : 'none';\n",
              "\n",
              "        async function convertToInteractive(key) {\n",
              "          const element = document.querySelector('#df-0b05e5ab-8054-4f69-a33c-4aa9112d5a7c');\n",
              "          const dataTable =\n",
              "            await google.colab.kernel.invokeFunction('convertToInteractive',\n",
              "                                                     [key], {});\n",
              "          if (!dataTable) return;\n",
              "\n",
              "          const docLinkHtml = 'Like what you see? Visit the ' +\n",
              "            '<a target=\"_blank\" href=https://colab.research.google.com/notebooks/data_table.ipynb>data table notebook</a>'\n",
              "            + ' to learn more about interactive tables.';\n",
              "          element.innerHTML = '';\n",
              "          dataTable['output_type'] = 'display_data';\n",
              "          await google.colab.output.renderOutput(dataTable, element);\n",
              "          const docLink = document.createElement('div');\n",
              "          docLink.innerHTML = docLinkHtml;\n",
              "          element.appendChild(docLink);\n",
              "        }\n",
              "      </script>\n",
              "    </div>\n",
              "  </div>\n",
              "  "
            ],
            "text/plain": [
              "                                                                                                                                                                          text\n",
              "0                                                                @AppleSupport causing the reply to be disregarded and the tapped notification under the keyboard is opened😡😡😡\n",
              "1                                @105835 Your business means a lot to us. Please DM your name, zip code and additional details about your concern. ^RR https://t.co/znUu1VJn9r\n",
              "2                                                                                       @76328 I really hope you all change but I'm sure you won't! Because you don't have to!\n",
              "3                          @105836 LiveChat is online at the moment - https://t.co/SY94VtU8Kq or contact 03331 031 031 option 1, 4, 3 (Leave a message) to request a call back\n",
              "4                                              @VirginTrains see attached error message. I've tried leaving a voicemail several times in the past week https://t.co/NxVZjlYx1k\n",
              "..                                                                                                                                                                         ...\n",
              "88                                                @105860 I wish Amazon had an option of where I can just get it shipped to the ups store so I can avoid a lot of the struggle\n",
              "89                                                                                                                They reschedule my shit for tomorrow https://t.co/RsvZcT982t\n",
              "90                         @105861 Hey Sara, sorry to hear of the issues you are having, can I ask if it's the lay out or just the speed of the website responding? TY - Chris\n",
              "91  @Tesco bit of both - finding the layout cumbersome and when removing an item from faves - getting a huge slowdown. Not keen on the thin green line https://t.co/9281OKEebk\n",
              "92                              @105861 If that doesn't help please DM your full name, address and email including the browser and device so we can log this. Thanks - Lee 2/2\n",
              "\n",
              "[93 rows x 1 columns]"
            ]
          },
          "metadata": {},
          "execution_count": 25
        }
      ]
    },
    {
      "cell_type": "markdown",
      "source": [
        "Lowercasing: In lowercasing the input text is converted into same casing format. This may not be helpful when we do tasks like Part of Speech tagging (where proper casing gives some information about Nouns and so on) and Sentiment Analysis (where upper casing refers to strong emotions and so on)"
      ],
      "metadata": {
        "id": "9peOy0CJYbWi"
      }
    },
    {
      "cell_type": "code",
      "source": [
        "tweet_text_lower = tweet_text.apply(lambda x: x.astype(str).str.lower())\n",
        "tweet_text_lower"
      ],
      "metadata": {
        "colab": {
          "base_uri": "https://localhost:8080/",
          "height": 423
        },
        "id": "Oozh3aj-c8as",
        "outputId": "afa77ef6-e80d-4254-f530-5cf0eab6ffff"
      },
      "execution_count": 29,
      "outputs": [
        {
          "output_type": "execute_result",
          "data": {
            "text/html": [
              "\n",
              "  <div id=\"df-727845b6-94a2-402f-b78d-3389a34a5161\">\n",
              "    <div class=\"colab-df-container\">\n",
              "      <div>\n",
              "<style scoped>\n",
              "    .dataframe tbody tr th:only-of-type {\n",
              "        vertical-align: middle;\n",
              "    }\n",
              "\n",
              "    .dataframe tbody tr th {\n",
              "        vertical-align: top;\n",
              "    }\n",
              "\n",
              "    .dataframe thead th {\n",
              "        text-align: right;\n",
              "    }\n",
              "</style>\n",
              "<table border=\"1\" class=\"dataframe\">\n",
              "  <thead>\n",
              "    <tr style=\"text-align: right;\">\n",
              "      <th></th>\n",
              "      <th>text</th>\n",
              "    </tr>\n",
              "  </thead>\n",
              "  <tbody>\n",
              "    <tr>\n",
              "      <th>0</th>\n",
              "      <td>@applesupport causing the reply to be disregarded and the tapped notification under the keyboard is opened😡😡😡</td>\n",
              "    </tr>\n",
              "    <tr>\n",
              "      <th>1</th>\n",
              "      <td>@105835 your business means a lot to us. please dm your name, zip code and additional details about your concern. ^rr https://t.co/znuu1vjn9r</td>\n",
              "    </tr>\n",
              "    <tr>\n",
              "      <th>2</th>\n",
              "      <td>@76328 i really hope you all change but i'm sure you won't! because you don't have to!</td>\n",
              "    </tr>\n",
              "    <tr>\n",
              "      <th>3</th>\n",
              "      <td>@105836 livechat is online at the moment - https://t.co/sy94vtu8kq or contact 03331 031 031 option 1, 4, 3 (leave a message) to request a call back</td>\n",
              "    </tr>\n",
              "    <tr>\n",
              "      <th>4</th>\n",
              "      <td>@virgintrains see attached error message. i've tried leaving a voicemail several times in the past week https://t.co/nxvzjlyx1k</td>\n",
              "    </tr>\n",
              "    <tr>\n",
              "      <th>...</th>\n",
              "      <td>...</td>\n",
              "    </tr>\n",
              "    <tr>\n",
              "      <th>88</th>\n",
              "      <td>@105860 i wish amazon had an option of where i can just get it shipped to the ups store so i can avoid a lot of the struggle</td>\n",
              "    </tr>\n",
              "    <tr>\n",
              "      <th>89</th>\n",
              "      <td>they reschedule my shit for tomorrow https://t.co/rsvzct982t</td>\n",
              "    </tr>\n",
              "    <tr>\n",
              "      <th>90</th>\n",
              "      <td>@105861 hey sara, sorry to hear of the issues you are having, can i ask if it's the lay out or just the speed of the website responding? ty - chris</td>\n",
              "    </tr>\n",
              "    <tr>\n",
              "      <th>91</th>\n",
              "      <td>@tesco bit of both - finding the layout cumbersome and when removing an item from faves - getting a huge slowdown. not keen on the thin green line https://t.co/9281okeebk</td>\n",
              "    </tr>\n",
              "    <tr>\n",
              "      <th>92</th>\n",
              "      <td>@105861 if that doesn't help please dm your full name, address and email including the browser and device so we can log this. thanks - lee 2/2</td>\n",
              "    </tr>\n",
              "  </tbody>\n",
              "</table>\n",
              "<p>93 rows × 1 columns</p>\n",
              "</div>\n",
              "      <button class=\"colab-df-convert\" onclick=\"convertToInteractive('df-727845b6-94a2-402f-b78d-3389a34a5161')\"\n",
              "              title=\"Convert this dataframe to an interactive table.\"\n",
              "              style=\"display:none;\">\n",
              "        \n",
              "  <svg xmlns=\"http://www.w3.org/2000/svg\" height=\"24px\"viewBox=\"0 0 24 24\"\n",
              "       width=\"24px\">\n",
              "    <path d=\"M0 0h24v24H0V0z\" fill=\"none\"/>\n",
              "    <path d=\"M18.56 5.44l.94 2.06.94-2.06 2.06-.94-2.06-.94-.94-2.06-.94 2.06-2.06.94zm-11 1L8.5 8.5l.94-2.06 2.06-.94-2.06-.94L8.5 2.5l-.94 2.06-2.06.94zm10 10l.94 2.06.94-2.06 2.06-.94-2.06-.94-.94-2.06-.94 2.06-2.06.94z\"/><path d=\"M17.41 7.96l-1.37-1.37c-.4-.4-.92-.59-1.43-.59-.52 0-1.04.2-1.43.59L10.3 9.45l-7.72 7.72c-.78.78-.78 2.05 0 2.83L4 21.41c.39.39.9.59 1.41.59.51 0 1.02-.2 1.41-.59l7.78-7.78 2.81-2.81c.8-.78.8-2.07 0-2.86zM5.41 20L4 18.59l7.72-7.72 1.47 1.35L5.41 20z\"/>\n",
              "  </svg>\n",
              "      </button>\n",
              "      \n",
              "  <style>\n",
              "    .colab-df-container {\n",
              "      display:flex;\n",
              "      flex-wrap:wrap;\n",
              "      gap: 12px;\n",
              "    }\n",
              "\n",
              "    .colab-df-convert {\n",
              "      background-color: #E8F0FE;\n",
              "      border: none;\n",
              "      border-radius: 50%;\n",
              "      cursor: pointer;\n",
              "      display: none;\n",
              "      fill: #1967D2;\n",
              "      height: 32px;\n",
              "      padding: 0 0 0 0;\n",
              "      width: 32px;\n",
              "    }\n",
              "\n",
              "    .colab-df-convert:hover {\n",
              "      background-color: #E2EBFA;\n",
              "      box-shadow: 0px 1px 2px rgba(60, 64, 67, 0.3), 0px 1px 3px 1px rgba(60, 64, 67, 0.15);\n",
              "      fill: #174EA6;\n",
              "    }\n",
              "\n",
              "    [theme=dark] .colab-df-convert {\n",
              "      background-color: #3B4455;\n",
              "      fill: #D2E3FC;\n",
              "    }\n",
              "\n",
              "    [theme=dark] .colab-df-convert:hover {\n",
              "      background-color: #434B5C;\n",
              "      box-shadow: 0px 1px 3px 1px rgba(0, 0, 0, 0.15);\n",
              "      filter: drop-shadow(0px 1px 2px rgba(0, 0, 0, 0.3));\n",
              "      fill: #FFFFFF;\n",
              "    }\n",
              "  </style>\n",
              "\n",
              "      <script>\n",
              "        const buttonEl =\n",
              "          document.querySelector('#df-727845b6-94a2-402f-b78d-3389a34a5161 button.colab-df-convert');\n",
              "        buttonEl.style.display =\n",
              "          google.colab.kernel.accessAllowed ? 'block' : 'none';\n",
              "\n",
              "        async function convertToInteractive(key) {\n",
              "          const element = document.querySelector('#df-727845b6-94a2-402f-b78d-3389a34a5161');\n",
              "          const dataTable =\n",
              "            await google.colab.kernel.invokeFunction('convertToInteractive',\n",
              "                                                     [key], {});\n",
              "          if (!dataTable) return;\n",
              "\n",
              "          const docLinkHtml = 'Like what you see? Visit the ' +\n",
              "            '<a target=\"_blank\" href=https://colab.research.google.com/notebooks/data_table.ipynb>data table notebook</a>'\n",
              "            + ' to learn more about interactive tables.';\n",
              "          element.innerHTML = '';\n",
              "          dataTable['output_type'] = 'display_data';\n",
              "          await google.colab.output.renderOutput(dataTable, element);\n",
              "          const docLink = document.createElement('div');\n",
              "          docLink.innerHTML = docLinkHtml;\n",
              "          element.appendChild(docLink);\n",
              "        }\n",
              "      </script>\n",
              "    </div>\n",
              "  </div>\n",
              "  "
            ],
            "text/plain": [
              "                                                                                                                                                                          text\n",
              "0                                                                @applesupport causing the reply to be disregarded and the tapped notification under the keyboard is opened😡😡😡\n",
              "1                                @105835 your business means a lot to us. please dm your name, zip code and additional details about your concern. ^rr https://t.co/znuu1vjn9r\n",
              "2                                                                                       @76328 i really hope you all change but i'm sure you won't! because you don't have to!\n",
              "3                          @105836 livechat is online at the moment - https://t.co/sy94vtu8kq or contact 03331 031 031 option 1, 4, 3 (leave a message) to request a call back\n",
              "4                                              @virgintrains see attached error message. i've tried leaving a voicemail several times in the past week https://t.co/nxvzjlyx1k\n",
              "..                                                                                                                                                                         ...\n",
              "88                                                @105860 i wish amazon had an option of where i can just get it shipped to the ups store so i can avoid a lot of the struggle\n",
              "89                                                                                                                they reschedule my shit for tomorrow https://t.co/rsvzct982t\n",
              "90                         @105861 hey sara, sorry to hear of the issues you are having, can i ask if it's the lay out or just the speed of the website responding? ty - chris\n",
              "91  @tesco bit of both - finding the layout cumbersome and when removing an item from faves - getting a huge slowdown. not keen on the thin green line https://t.co/9281okeebk\n",
              "92                              @105861 if that doesn't help please dm your full name, address and email including the browser and device so we can log this. thanks - lee 2/2\n",
              "\n",
              "[93 rows x 1 columns]"
            ]
          },
          "metadata": {},
          "execution_count": 29
        }
      ]
    },
    {
      "cell_type": "markdown",
      "source": [
        "**Removal of Punctuations**\n",
        "In this step, all the punctuations from the text are removed. string library of Python contains some pre-defined list of punctuations such as ‘!”#$%&'()*+,-./:;?@[\\]^_`{|}~’"
      ],
      "metadata": {
        "id": "7w_wQ1LfdDRr"
      }
    },
    {
      "cell_type": "code",
      "source": [
        "df['new_text']=tweet_text_lower"
      ],
      "metadata": {
        "id": "CtPQK4PHgMP-"
      },
      "execution_count": 37,
      "outputs": []
    },
    {
      "cell_type": "code",
      "source": [
        "import string\n",
        "string.punctuation"
      ],
      "metadata": {
        "colab": {
          "base_uri": "https://localhost:8080/",
          "height": 35
        },
        "id": "R3ljYJ8sdcoG",
        "outputId": "5fb62d23-27fe-48e8-8f10-2ad046a94a8f"
      },
      "execution_count": 30,
      "outputs": [
        {
          "output_type": "execute_result",
          "data": {
            "application/vnd.google.colaboratory.intrinsic+json": {
              "type": "string"
            },
            "text/plain": [
              "'!\"#$%&\\'()*+,-./:;<=>?@[\\\\]^_`{|}~'"
            ]
          },
          "metadata": {},
          "execution_count": 30
        }
      ]
    },
    {
      "cell_type": "code",
      "source": [
        "#defining the function to remove punctuation\n",
        "def remove_punctuation(text):\n",
        "    punctuationfree=\"\".join([i for i in text if i not in string.punctuation])\n",
        "    return punctuationfree\n",
        "#storing the puntuation free text\n",
        "df['clean_msg']= df['new_text'].apply(lambda text: remove_punctuation(text))"
      ],
      "metadata": {
        "id": "mx5Wq9pVd5ia"
      },
      "execution_count": 38,
      "outputs": []
    },
    {
      "cell_type": "code",
      "source": [
        "df['clean_msg']"
      ],
      "metadata": {
        "colab": {
          "base_uri": "https://localhost:8080/"
        },
        "id": "rKiEuukYcQ0c",
        "outputId": "e033f378-fcf2-4c81-c276-6e5a51ef9a51"
      },
      "execution_count": 39,
      "outputs": [
        {
          "output_type": "execute_result",
          "data": {
            "text/plain": [
              "0                                                          applesupport causing the reply to be disregarded and the tapped notification under the keyboard is opened😡😡😡\n",
              "1                                   105835 your business means a lot to us please dm your name zip code and additional details about your concern rr httpstcoznuu1vjn9r\n",
              "2                                                                                      76328 i really hope you all change but im sure you wont because you dont have to\n",
              "3                              105836 livechat is online at the moment  httpstcosy94vtu8kq or contact 03331 031 031 option 1 4 3 leave a message to request a call back\n",
              "4                                               virgintrains see attached error message ive tried leaving a voicemail several times in the past week httpstconxvzjlyx1k\n",
              "                                                                                    ...                                                                                \n",
              "88                                          105860 i wish amazon had an option of where i can just get it shipped to the ups store so i can avoid a lot of the struggle\n",
              "89                                                                                                              they reschedule my shit for tomorrow httpstcorsvzct982t\n",
              "90                        105861 hey sara sorry to hear of the issues you are having can i ask if its the lay out or just the speed of the website responding ty  chris\n",
              "91    tesco bit of both  finding the layout cumbersome and when removing an item from faves  getting a huge slowdown not keen on the thin green line httpstco9281okeebk\n",
              "92                             105861 if that doesnt help please dm your full name address and email including the browser and device so we can log this thanks  lee 22\n",
              "Name: clean_msg, Length: 93, dtype: object"
            ]
          },
          "metadata": {},
          "execution_count": 39
        }
      ]
    },
    {
      "cell_type": "markdown",
      "source": [
        "**Tokenization: Splitting the senetences into characters, words. We can also split the paragraph into sentences.**"
      ],
      "metadata": {
        "id": "Ui8H96937XVb"
      }
    },
    {
      "cell_type": "code",
      "source": [
        "#defining function for tokenization\n",
        "import re\n",
        "def tokenization(text):\n",
        "    tokens = re.split('W+',text)\n",
        "    return tokens\n",
        "#applying function to the column\n",
        "df['msg_tokenied']= df['clean_msg'].apply(lambda x: tokenization(x))"
      ],
      "metadata": {
        "id": "9q24aGg57p5r"
      },
      "execution_count": 40,
      "outputs": []
    },
    {
      "cell_type": "code",
      "source": [
        "df['msg_tokenied'].head()"
      ],
      "metadata": {
        "colab": {
          "base_uri": "https://localhost:8080/"
        },
        "id": "G52XOvpN72q1",
        "outputId": "706210cb-54aa-45de-a523-5664efae1c7a"
      },
      "execution_count": 46,
      "outputs": [
        {
          "output_type": "execute_result",
          "data": {
            "text/plain": [
              "0                                [applesupport causing the reply to be disregarded and the tapped notification under the keyboard is opened😡😡😡]\n",
              "1         [105835 your business means a lot to us please dm your name zip code and additional details about your concern rr httpstcoznuu1vjn9r]\n",
              "2                                                            [76328 i really hope you all change but im sure you wont because you dont have to]\n",
              "3    [105836 livechat is online at the moment  httpstcosy94vtu8kq or contact 03331 031 031 option 1 4 3 leave a message to request a call back]\n",
              "4                     [virgintrains see attached error message ive tried leaving a voicemail several times in the past week httpstconxvzjlyx1k]\n",
              "Name: msg_tokenied, dtype: object"
            ]
          },
          "metadata": {},
          "execution_count": 46
        }
      ]
    },
    {
      "cell_type": "markdown",
      "source": [
        "Removal of Stopwords: Stopwords are commonly occuring words in a language like 'the', 'a' and so on. They can be removed from the text most of the times, as they don't provide valuable information for downstream analysis. In cases like Part of Speech tagging, we should not remove them as provide very valuable information about the POS.\n",
        "\n",
        "These stopword lists are already compiled for different languages and we can safely use them. For example, the stopword list for english language from the nltk package can be seen below."
      ],
      "metadata": {
        "id": "rzeBfbW2-Qo0"
      }
    },
    {
      "cell_type": "code",
      "source": [
        "from nltk.corpus import stopwords\n",
        "nltk.download('stopwords')\n",
        "\", \".join(stopwords.words('english'))"
      ],
      "metadata": {
        "colab": {
          "base_uri": "https://localhost:8080/",
          "height": 158
        },
        "id": "T1R9Zkl5-mgX",
        "outputId": "08fff44e-6a95-4f5f-840b-ad55945d20ac"
      },
      "execution_count": 47,
      "outputs": [
        {
          "output_type": "stream",
          "name": "stdout",
          "text": [
            "[nltk_data] Downloading package stopwords to /root/nltk_data...\n",
            "[nltk_data]   Unzipping corpora/stopwords.zip.\n"
          ]
        },
        {
          "output_type": "execute_result",
          "data": {
            "application/vnd.google.colaboratory.intrinsic+json": {
              "type": "string"
            },
            "text/plain": [
              "\"i, me, my, myself, we, our, ours, ourselves, you, you're, you've, you'll, you'd, your, yours, yourself, yourselves, he, him, his, himself, she, she's, her, hers, herself, it, it's, its, itself, they, them, their, theirs, themselves, what, which, who, whom, this, that, that'll, these, those, am, is, are, was, were, be, been, being, have, has, had, having, do, does, did, doing, a, an, the, and, but, if, or, because, as, until, while, of, at, by, for, with, about, against, between, into, through, during, before, after, above, below, to, from, up, down, in, out, on, off, over, under, again, further, then, once, here, there, when, where, why, how, all, any, both, each, few, more, most, other, some, such, no, nor, not, only, own, same, so, than, too, very, s, t, can, will, just, don, don't, should, should've, now, d, ll, m, o, re, ve, y, ain, aren, aren't, couldn, couldn't, didn, didn't, doesn, doesn't, hadn, hadn't, hasn, hasn't, haven, haven't, isn, isn't, ma, mightn, mightn't, mustn, mustn't, needn, needn't, shan, shan't, shouldn, shouldn't, wasn, wasn't, weren, weren't, won, won't, wouldn, wouldn't\""
            ]
          },
          "metadata": {},
          "execution_count": 47
        }
      ]
    },
    {
      "cell_type": "code",
      "source": [
        "STOPWORDS = set(stopwords.words('english'))\n",
        "def remove_stopwords(text):\n",
        "    \"\"\"custom function to remove the stopwords\"\"\"\n",
        "    return \" \".join([word for word in str(text).split() if word not in STOPWORDS])\n",
        "\n",
        "df[\"text_wo_stop\"] = df[\"msg_tokenied\"].apply(lambda text: remove_stopwords(text))\n",
        "df.head()"
      ],
      "metadata": {
        "colab": {
          "base_uri": "https://localhost:8080/",
          "height": 826
        },
        "id": "ognd9TRo-0I5",
        "outputId": "0631a6d6-601d-4d7e-b822-b198ed2aebf9"
      },
      "execution_count": 48,
      "outputs": [
        {
          "output_type": "execute_result",
          "data": {
            "text/html": [
              "\n",
              "  <div id=\"df-9946e185-2125-4c63-9fd2-9a0f3a31d080\">\n",
              "    <div class=\"colab-df-container\">\n",
              "      <div>\n",
              "<style scoped>\n",
              "    .dataframe tbody tr th:only-of-type {\n",
              "        vertical-align: middle;\n",
              "    }\n",
              "\n",
              "    .dataframe tbody tr th {\n",
              "        vertical-align: top;\n",
              "    }\n",
              "\n",
              "    .dataframe thead th {\n",
              "        text-align: right;\n",
              "    }\n",
              "</style>\n",
              "<table border=\"1\" class=\"dataframe\">\n",
              "  <thead>\n",
              "    <tr style=\"text-align: right;\">\n",
              "      <th></th>\n",
              "      <th>tweet_id</th>\n",
              "      <th>author_id</th>\n",
              "      <th>inbound</th>\n",
              "      <th>created_at</th>\n",
              "      <th>text</th>\n",
              "      <th>response_tweet_id</th>\n",
              "      <th>in_response_to_tweet_id</th>\n",
              "      <th>clean_msg</th>\n",
              "      <th>new_text</th>\n",
              "      <th>msg_tokenied</th>\n",
              "      <th>text_wo_stop</th>\n",
              "    </tr>\n",
              "  </thead>\n",
              "  <tbody>\n",
              "    <tr>\n",
              "      <th>0</th>\n",
              "      <td>119237</td>\n",
              "      <td>105834</td>\n",
              "      <td>True</td>\n",
              "      <td>Wed Oct 11 06:55:44 +0000 2017</td>\n",
              "      <td>@AppleSupport causing the reply to be disregarded and the tapped notification under the keyboard is opened😡😡😡</td>\n",
              "      <td>119236</td>\n",
              "      <td>NaN</td>\n",
              "      <td>applesupport causing the reply to be disregarded and the tapped notification under the keyboard is opened😡😡😡</td>\n",
              "      <td>@applesupport causing the reply to be disregarded and the tapped notification under the keyboard is opened😡😡😡</td>\n",
              "      <td>[applesupport causing the reply to be disregarded and the tapped notification under the keyboard is opened😡😡😡]</td>\n",
              "      <td>['applesupport causing reply disregarded tapped notification keyboard opened😡😡😡']</td>\n",
              "    </tr>\n",
              "    <tr>\n",
              "      <th>1</th>\n",
              "      <td>119238</td>\n",
              "      <td>ChaseSupport</td>\n",
              "      <td>False</td>\n",
              "      <td>Wed Oct 11 13:25:49 +0000 2017</td>\n",
              "      <td>@105835 Your business means a lot to us. Please DM your name, zip code and additional details about your concern. ^RR https://t.co/znUu1VJn9r</td>\n",
              "      <td>NaN</td>\n",
              "      <td>119239.0</td>\n",
              "      <td>105835 your business means a lot to us please dm your name zip code and additional details about your concern rr httpstcoznuu1vjn9r</td>\n",
              "      <td>@105835 your business means a lot to us. please dm your name, zip code and additional details about your concern. ^rr https://t.co/znuu1vjn9r</td>\n",
              "      <td>[105835 your business means a lot to us please dm your name zip code and additional details about your concern rr httpstcoznuu1vjn9r]</td>\n",
              "      <td>['105835 business means lot us please dm name zip code additional details concern rr httpstcoznuu1vjn9r']</td>\n",
              "    </tr>\n",
              "    <tr>\n",
              "      <th>2</th>\n",
              "      <td>119239</td>\n",
              "      <td>105835</td>\n",
              "      <td>True</td>\n",
              "      <td>Wed Oct 11 13:00:09 +0000 2017</td>\n",
              "      <td>@76328 I really hope you all change but I'm sure you won't! Because you don't have to!</td>\n",
              "      <td>119238</td>\n",
              "      <td>NaN</td>\n",
              "      <td>76328 i really hope you all change but im sure you wont because you dont have to</td>\n",
              "      <td>@76328 i really hope you all change but i'm sure you won't! because you don't have to!</td>\n",
              "      <td>[76328 i really hope you all change but im sure you wont because you dont have to]</td>\n",
              "      <td>['76328 really hope change im sure wont dont to']</td>\n",
              "    </tr>\n",
              "    <tr>\n",
              "      <th>3</th>\n",
              "      <td>119240</td>\n",
              "      <td>VirginTrains</td>\n",
              "      <td>False</td>\n",
              "      <td>Tue Oct 10 15:16:08 +0000 2017</td>\n",
              "      <td>@105836 LiveChat is online at the moment - https://t.co/SY94VtU8Kq or contact 03331 031 031 option 1, 4, 3 (Leave a message) to request a call back</td>\n",
              "      <td>119241</td>\n",
              "      <td>119242.0</td>\n",
              "      <td>105836 livechat is online at the moment  httpstcosy94vtu8kq or contact 03331 031 031 option 1 4 3 leave a message to request a call back</td>\n",
              "      <td>@105836 livechat is online at the moment - https://t.co/sy94vtu8kq or contact 03331 031 031 option 1, 4, 3 (leave a message) to request a call back</td>\n",
              "      <td>[105836 livechat is online at the moment  httpstcosy94vtu8kq or contact 03331 031 031 option 1 4 3 leave a message to request a call back]</td>\n",
              "      <td>['105836 livechat online moment httpstcosy94vtu8kq contact 03331 031 031 option 1 4 3 leave message request call back']</td>\n",
              "    </tr>\n",
              "    <tr>\n",
              "      <th>4</th>\n",
              "      <td>119241</td>\n",
              "      <td>105836</td>\n",
              "      <td>True</td>\n",
              "      <td>Tue Oct 10 15:17:21 +0000 2017</td>\n",
              "      <td>@VirginTrains see attached error message. I've tried leaving a voicemail several times in the past week https://t.co/NxVZjlYx1k</td>\n",
              "      <td>119243</td>\n",
              "      <td>119240.0</td>\n",
              "      <td>virgintrains see attached error message ive tried leaving a voicemail several times in the past week httpstconxvzjlyx1k</td>\n",
              "      <td>@virgintrains see attached error message. i've tried leaving a voicemail several times in the past week https://t.co/nxvzjlyx1k</td>\n",
              "      <td>[virgintrains see attached error message ive tried leaving a voicemail several times in the past week httpstconxvzjlyx1k]</td>\n",
              "      <td>['virgintrains see attached error message ive tried leaving voicemail several times past week httpstconxvzjlyx1k']</td>\n",
              "    </tr>\n",
              "  </tbody>\n",
              "</table>\n",
              "</div>\n",
              "      <button class=\"colab-df-convert\" onclick=\"convertToInteractive('df-9946e185-2125-4c63-9fd2-9a0f3a31d080')\"\n",
              "              title=\"Convert this dataframe to an interactive table.\"\n",
              "              style=\"display:none;\">\n",
              "        \n",
              "  <svg xmlns=\"http://www.w3.org/2000/svg\" height=\"24px\"viewBox=\"0 0 24 24\"\n",
              "       width=\"24px\">\n",
              "    <path d=\"M0 0h24v24H0V0z\" fill=\"none\"/>\n",
              "    <path d=\"M18.56 5.44l.94 2.06.94-2.06 2.06-.94-2.06-.94-.94-2.06-.94 2.06-2.06.94zm-11 1L8.5 8.5l.94-2.06 2.06-.94-2.06-.94L8.5 2.5l-.94 2.06-2.06.94zm10 10l.94 2.06.94-2.06 2.06-.94-2.06-.94-.94-2.06-.94 2.06-2.06.94z\"/><path d=\"M17.41 7.96l-1.37-1.37c-.4-.4-.92-.59-1.43-.59-.52 0-1.04.2-1.43.59L10.3 9.45l-7.72 7.72c-.78.78-.78 2.05 0 2.83L4 21.41c.39.39.9.59 1.41.59.51 0 1.02-.2 1.41-.59l7.78-7.78 2.81-2.81c.8-.78.8-2.07 0-2.86zM5.41 20L4 18.59l7.72-7.72 1.47 1.35L5.41 20z\"/>\n",
              "  </svg>\n",
              "      </button>\n",
              "      \n",
              "  <style>\n",
              "    .colab-df-container {\n",
              "      display:flex;\n",
              "      flex-wrap:wrap;\n",
              "      gap: 12px;\n",
              "    }\n",
              "\n",
              "    .colab-df-convert {\n",
              "      background-color: #E8F0FE;\n",
              "      border: none;\n",
              "      border-radius: 50%;\n",
              "      cursor: pointer;\n",
              "      display: none;\n",
              "      fill: #1967D2;\n",
              "      height: 32px;\n",
              "      padding: 0 0 0 0;\n",
              "      width: 32px;\n",
              "    }\n",
              "\n",
              "    .colab-df-convert:hover {\n",
              "      background-color: #E2EBFA;\n",
              "      box-shadow: 0px 1px 2px rgba(60, 64, 67, 0.3), 0px 1px 3px 1px rgba(60, 64, 67, 0.15);\n",
              "      fill: #174EA6;\n",
              "    }\n",
              "\n",
              "    [theme=dark] .colab-df-convert {\n",
              "      background-color: #3B4455;\n",
              "      fill: #D2E3FC;\n",
              "    }\n",
              "\n",
              "    [theme=dark] .colab-df-convert:hover {\n",
              "      background-color: #434B5C;\n",
              "      box-shadow: 0px 1px 3px 1px rgba(0, 0, 0, 0.15);\n",
              "      filter: drop-shadow(0px 1px 2px rgba(0, 0, 0, 0.3));\n",
              "      fill: #FFFFFF;\n",
              "    }\n",
              "  </style>\n",
              "\n",
              "      <script>\n",
              "        const buttonEl =\n",
              "          document.querySelector('#df-9946e185-2125-4c63-9fd2-9a0f3a31d080 button.colab-df-convert');\n",
              "        buttonEl.style.display =\n",
              "          google.colab.kernel.accessAllowed ? 'block' : 'none';\n",
              "\n",
              "        async function convertToInteractive(key) {\n",
              "          const element = document.querySelector('#df-9946e185-2125-4c63-9fd2-9a0f3a31d080');\n",
              "          const dataTable =\n",
              "            await google.colab.kernel.invokeFunction('convertToInteractive',\n",
              "                                                     [key], {});\n",
              "          if (!dataTable) return;\n",
              "\n",
              "          const docLinkHtml = 'Like what you see? Visit the ' +\n",
              "            '<a target=\"_blank\" href=https://colab.research.google.com/notebooks/data_table.ipynb>data table notebook</a>'\n",
              "            + ' to learn more about interactive tables.';\n",
              "          element.innerHTML = '';\n",
              "          dataTable['output_type'] = 'display_data';\n",
              "          await google.colab.output.renderOutput(dataTable, element);\n",
              "          const docLink = document.createElement('div');\n",
              "          docLink.innerHTML = docLinkHtml;\n",
              "          element.appendChild(docLink);\n",
              "        }\n",
              "      </script>\n",
              "    </div>\n",
              "  </div>\n",
              "  "
            ],
            "text/plain": [
              "   tweet_id     author_id  inbound                      created_at  \\\n",
              "0    119237        105834     True  Wed Oct 11 06:55:44 +0000 2017   \n",
              "1    119238  ChaseSupport    False  Wed Oct 11 13:25:49 +0000 2017   \n",
              "2    119239        105835     True  Wed Oct 11 13:00:09 +0000 2017   \n",
              "3    119240  VirginTrains    False  Tue Oct 10 15:16:08 +0000 2017   \n",
              "4    119241        105836     True  Tue Oct 10 15:17:21 +0000 2017   \n",
              "\n",
              "                                                                                                                                                  text  \\\n",
              "0                                        @AppleSupport causing the reply to be disregarded and the tapped notification under the keyboard is opened😡😡😡   \n",
              "1        @105835 Your business means a lot to us. Please DM your name, zip code and additional details about your concern. ^RR https://t.co/znUu1VJn9r   \n",
              "2                                                               @76328 I really hope you all change but I'm sure you won't! Because you don't have to!   \n",
              "3  @105836 LiveChat is online at the moment - https://t.co/SY94VtU8Kq or contact 03331 031 031 option 1, 4, 3 (Leave a message) to request a call back   \n",
              "4                      @VirginTrains see attached error message. I've tried leaving a voicemail several times in the past week https://t.co/NxVZjlYx1k   \n",
              "\n",
              "  response_tweet_id  in_response_to_tweet_id  \\\n",
              "0            119236                      NaN   \n",
              "1               NaN                 119239.0   \n",
              "2            119238                      NaN   \n",
              "3            119241                 119242.0   \n",
              "4            119243                 119240.0   \n",
              "\n",
              "                                                                                                                                  clean_msg  \\\n",
              "0                              applesupport causing the reply to be disregarded and the tapped notification under the keyboard is opened😡😡😡   \n",
              "1       105835 your business means a lot to us please dm your name zip code and additional details about your concern rr httpstcoznuu1vjn9r   \n",
              "2                                                          76328 i really hope you all change but im sure you wont because you dont have to   \n",
              "3  105836 livechat is online at the moment  httpstcosy94vtu8kq or contact 03331 031 031 option 1 4 3 leave a message to request a call back   \n",
              "4                   virgintrains see attached error message ive tried leaving a voicemail several times in the past week httpstconxvzjlyx1k   \n",
              "\n",
              "                                                                                                                                              new_text  \\\n",
              "0                                        @applesupport causing the reply to be disregarded and the tapped notification under the keyboard is opened😡😡😡   \n",
              "1        @105835 your business means a lot to us. please dm your name, zip code and additional details about your concern. ^rr https://t.co/znuu1vjn9r   \n",
              "2                                                               @76328 i really hope you all change but i'm sure you won't! because you don't have to!   \n",
              "3  @105836 livechat is online at the moment - https://t.co/sy94vtu8kq or contact 03331 031 031 option 1, 4, 3 (leave a message) to request a call back   \n",
              "4                      @virgintrains see attached error message. i've tried leaving a voicemail several times in the past week https://t.co/nxvzjlyx1k   \n",
              "\n",
              "                                                                                                                                 msg_tokenied  \\\n",
              "0                              [applesupport causing the reply to be disregarded and the tapped notification under the keyboard is opened😡😡😡]   \n",
              "1       [105835 your business means a lot to us please dm your name zip code and additional details about your concern rr httpstcoznuu1vjn9r]   \n",
              "2                                                          [76328 i really hope you all change but im sure you wont because you dont have to]   \n",
              "3  [105836 livechat is online at the moment  httpstcosy94vtu8kq or contact 03331 031 031 option 1 4 3 leave a message to request a call back]   \n",
              "4                   [virgintrains see attached error message ive tried leaving a voicemail several times in the past week httpstconxvzjlyx1k]   \n",
              "\n",
              "                                                                                                              text_wo_stop  \n",
              "0                                        ['applesupport causing reply disregarded tapped notification keyboard opened😡😡😡']  \n",
              "1                ['105835 business means lot us please dm name zip code additional details concern rr httpstcoznuu1vjn9r']  \n",
              "2                                                                        ['76328 really hope change im sure wont dont to']  \n",
              "3  ['105836 livechat online moment httpstcosy94vtu8kq contact 03331 031 031 option 1 4 3 leave message request call back']  \n",
              "4       ['virgintrains see attached error message ive tried leaving voicemail several times past week httpstconxvzjlyx1k']  "
            ]
          },
          "metadata": {},
          "execution_count": 48
        }
      ]
    },
    {
      "cell_type": "markdown",
      "source": [
        "**Stemming: Stemming is the process of reducing inflected (or sometimes derived) words to their word stem, base or root form.**\n",
        "\n",
        "There are several type of stemming algorithms available and one of the famous one is porter stemmer which is widely used. We can use nltk package for the same."
      ],
      "metadata": {
        "id": "D2qL3Vpk_IUt"
      }
    },
    {
      "cell_type": "code",
      "source": [
        "from nltk.stem.porter import PorterStemmer\n",
        "\n",
        "stemmer = PorterStemmer()\n",
        "def stem_words(text):\n",
        "    return \" \".join([stemmer.stem(word) for word in text.split()])\n",
        "\n",
        "df[\"text_stemmed\"] = df[\"text\"].apply(lambda text: stem_words(text))\n",
        "df[\"text_stemmed\"]"
      ],
      "metadata": {
        "colab": {
          "base_uri": "https://localhost:8080/"
        },
        "id": "gA4FzedC_LMc",
        "outputId": "9d155b11-25af-4d86-a119-7fcd6f181eec"
      },
      "execution_count": 51,
      "outputs": [
        {
          "output_type": "execute_result",
          "data": {
            "text/plain": [
              "0                                                                     @applesupport caus the repli to be disregard and the tap notif under the keyboard is opened😡😡😡\n",
              "1                                  @105835 your busi mean a lot to us. pleas DM your name, zip code and addit detail about your concern. ^rr https://t.co/znuu1vjn9r\n",
              "2                                                                               @76328 I realli hope you all chang but i'm sure you won't! becaus you don't have to!\n",
              "3                  @105836 livechat is onlin at the moment - https://t.co/sy94vtu8kq or contact 03331 031 031 option 1, 4, 3 (leav a message) to request a call back\n",
              "4                                                @virgintrain see attach error message. i'v tri leav a voicemail sever time in the past week https://t.co/nxvzjlyx1k\n",
              "                                                                                   ...                                                                              \n",
              "88                                           @105860 I wish amazon had an option of where I can just get it ship to the up store so I can avoid a lot of the struggl\n",
              "89                                                                                                       they reschedul my shit for tomorrow https://t.co/rsvzct982t\n",
              "90                    @105861 hey sara, sorri to hear of the issu you are having, can I ask if it' the lay out or just the speed of the websit responding? TY - chri\n",
              "91    @tesco bit of both - find the layout cumbersom and when remov an item from fave - get a huge slowdown. not keen on the thin green line https://t.co/9281okeebk\n",
              "92                          @105861 If that doesn't help pleas DM your full name, address and email includ the browser and devic so we can log this. thank - lee 2/2\n",
              "Name: text_stemmed, Length: 93, dtype: object"
            ]
          },
          "metadata": {},
          "execution_count": 51
        }
      ]
    },
    {
      "cell_type": "markdown",
      "source": [
        "**Lemmatization: Lemmatization is similar to stemming in reducing inflected words to their word stem but differs in the way that it makes sure the root word (also called as lemma) belongs to the language.**\n",
        "\n",
        "Let us use the WordNetLemmatizer in nltk to lemmatize our sentences"
      ],
      "metadata": {
        "id": "BTdBPsLD_lg9"
      }
    },
    {
      "cell_type": "code",
      "source": [
        "from nltk.stem import WordNetLemmatizer\n",
        "nltk.download('wordnet')\n",
        "lemmatizer = WordNetLemmatizer()\n",
        "def lemmatize_words(text):\n",
        "    return \" \".join([lemmatizer.lemmatize(word) for word in text.split()])\n",
        "\n",
        "df[\"text_lemmatized\"] = df[\"text_wo_stop\"].apply(lambda text: lemmatize_words(text))\n",
        "df.head()"
      ],
      "metadata": {
        "colab": {
          "base_uri": "https://localhost:8080/",
          "height": 860
        },
        "id": "feY4IYYK_rS-",
        "outputId": "06e9627e-8aef-4359-b55c-f5da41c080c3"
      },
      "execution_count": 53,
      "outputs": [
        {
          "output_type": "stream",
          "name": "stdout",
          "text": [
            "[nltk_data] Downloading package wordnet to /root/nltk_data...\n",
            "[nltk_data]   Package wordnet is already up-to-date!\n"
          ]
        },
        {
          "output_type": "execute_result",
          "data": {
            "text/html": [
              "\n",
              "  <div id=\"df-d97d8f42-5323-46be-935b-d98536e4531a\">\n",
              "    <div class=\"colab-df-container\">\n",
              "      <div>\n",
              "<style scoped>\n",
              "    .dataframe tbody tr th:only-of-type {\n",
              "        vertical-align: middle;\n",
              "    }\n",
              "\n",
              "    .dataframe tbody tr th {\n",
              "        vertical-align: top;\n",
              "    }\n",
              "\n",
              "    .dataframe thead th {\n",
              "        text-align: right;\n",
              "    }\n",
              "</style>\n",
              "<table border=\"1\" class=\"dataframe\">\n",
              "  <thead>\n",
              "    <tr style=\"text-align: right;\">\n",
              "      <th></th>\n",
              "      <th>tweet_id</th>\n",
              "      <th>author_id</th>\n",
              "      <th>inbound</th>\n",
              "      <th>created_at</th>\n",
              "      <th>text</th>\n",
              "      <th>response_tweet_id</th>\n",
              "      <th>in_response_to_tweet_id</th>\n",
              "      <th>clean_msg</th>\n",
              "      <th>new_text</th>\n",
              "      <th>msg_tokenied</th>\n",
              "      <th>text_wo_stop</th>\n",
              "      <th>text_stemmed</th>\n",
              "      <th>text_lemmatized</th>\n",
              "    </tr>\n",
              "  </thead>\n",
              "  <tbody>\n",
              "    <tr>\n",
              "      <th>0</th>\n",
              "      <td>119237</td>\n",
              "      <td>105834</td>\n",
              "      <td>True</td>\n",
              "      <td>Wed Oct 11 06:55:44 +0000 2017</td>\n",
              "      <td>@AppleSupport causing the reply to be disregarded and the tapped notification under the keyboard is opened😡😡😡</td>\n",
              "      <td>119236</td>\n",
              "      <td>NaN</td>\n",
              "      <td>applesupport causing the reply to be disregarded and the tapped notification under the keyboard is opened😡😡😡</td>\n",
              "      <td>@applesupport causing the reply to be disregarded and the tapped notification under the keyboard is opened😡😡😡</td>\n",
              "      <td>[applesupport causing the reply to be disregarded and the tapped notification under the keyboard is opened😡😡😡]</td>\n",
              "      <td>['applesupport causing reply disregarded tapped notification keyboard opened😡😡😡']</td>\n",
              "      <td>@applesupport caus the repli to be disregard and the tap notif under the keyboard is opened😡😡😡</td>\n",
              "      <td>['applesupport causing reply disregarded tapped notification keyboard opened😡😡😡']</td>\n",
              "    </tr>\n",
              "    <tr>\n",
              "      <th>1</th>\n",
              "      <td>119238</td>\n",
              "      <td>ChaseSupport</td>\n",
              "      <td>False</td>\n",
              "      <td>Wed Oct 11 13:25:49 +0000 2017</td>\n",
              "      <td>@105835 Your business means a lot to us. Please DM your name, zip code and additional details about your concern. ^RR https://t.co/znUu1VJn9r</td>\n",
              "      <td>NaN</td>\n",
              "      <td>119239.0</td>\n",
              "      <td>105835 your business means a lot to us please dm your name zip code and additional details about your concern rr httpstcoznuu1vjn9r</td>\n",
              "      <td>@105835 your business means a lot to us. please dm your name, zip code and additional details about your concern. ^rr https://t.co/znuu1vjn9r</td>\n",
              "      <td>[105835 your business means a lot to us please dm your name zip code and additional details about your concern rr httpstcoznuu1vjn9r]</td>\n",
              "      <td>['105835 business means lot us please dm name zip code additional details concern rr httpstcoznuu1vjn9r']</td>\n",
              "      <td>@105835 your busi mean a lot to us. pleas DM your name, zip code and addit detail about your concern. ^rr https://t.co/znuu1vjn9r</td>\n",
              "      <td>['105835 business mean lot u please dm name zip code additional detail concern rr httpstcoznuu1vjn9r']</td>\n",
              "    </tr>\n",
              "    <tr>\n",
              "      <th>2</th>\n",
              "      <td>119239</td>\n",
              "      <td>105835</td>\n",
              "      <td>True</td>\n",
              "      <td>Wed Oct 11 13:00:09 +0000 2017</td>\n",
              "      <td>@76328 I really hope you all change but I'm sure you won't! Because you don't have to!</td>\n",
              "      <td>119238</td>\n",
              "      <td>NaN</td>\n",
              "      <td>76328 i really hope you all change but im sure you wont because you dont have to</td>\n",
              "      <td>@76328 i really hope you all change but i'm sure you won't! because you don't have to!</td>\n",
              "      <td>[76328 i really hope you all change but im sure you wont because you dont have to]</td>\n",
              "      <td>['76328 really hope change im sure wont dont to']</td>\n",
              "      <td>@76328 I realli hope you all chang but i'm sure you won't! becaus you don't have to!</td>\n",
              "      <td>['76328 really hope change im sure wont dont to']</td>\n",
              "    </tr>\n",
              "    <tr>\n",
              "      <th>3</th>\n",
              "      <td>119240</td>\n",
              "      <td>VirginTrains</td>\n",
              "      <td>False</td>\n",
              "      <td>Tue Oct 10 15:16:08 +0000 2017</td>\n",
              "      <td>@105836 LiveChat is online at the moment - https://t.co/SY94VtU8Kq or contact 03331 031 031 option 1, 4, 3 (Leave a message) to request a call back</td>\n",
              "      <td>119241</td>\n",
              "      <td>119242.0</td>\n",
              "      <td>105836 livechat is online at the moment  httpstcosy94vtu8kq or contact 03331 031 031 option 1 4 3 leave a message to request a call back</td>\n",
              "      <td>@105836 livechat is online at the moment - https://t.co/sy94vtu8kq or contact 03331 031 031 option 1, 4, 3 (leave a message) to request a call back</td>\n",
              "      <td>[105836 livechat is online at the moment  httpstcosy94vtu8kq or contact 03331 031 031 option 1 4 3 leave a message to request a call back]</td>\n",
              "      <td>['105836 livechat online moment httpstcosy94vtu8kq contact 03331 031 031 option 1 4 3 leave message request call back']</td>\n",
              "      <td>@105836 livechat is onlin at the moment - https://t.co/sy94vtu8kq or contact 03331 031 031 option 1, 4, 3 (leav a message) to request a call back</td>\n",
              "      <td>['105836 livechat online moment httpstcosy94vtu8kq contact 03331 031 031 option 1 4 3 leave message request call back']</td>\n",
              "    </tr>\n",
              "    <tr>\n",
              "      <th>4</th>\n",
              "      <td>119241</td>\n",
              "      <td>105836</td>\n",
              "      <td>True</td>\n",
              "      <td>Tue Oct 10 15:17:21 +0000 2017</td>\n",
              "      <td>@VirginTrains see attached error message. I've tried leaving a voicemail several times in the past week https://t.co/NxVZjlYx1k</td>\n",
              "      <td>119243</td>\n",
              "      <td>119240.0</td>\n",
              "      <td>virgintrains see attached error message ive tried leaving a voicemail several times in the past week httpstconxvzjlyx1k</td>\n",
              "      <td>@virgintrains see attached error message. i've tried leaving a voicemail several times in the past week https://t.co/nxvzjlyx1k</td>\n",
              "      <td>[virgintrains see attached error message ive tried leaving a voicemail several times in the past week httpstconxvzjlyx1k]</td>\n",
              "      <td>['virgintrains see attached error message ive tried leaving voicemail several times past week httpstconxvzjlyx1k']</td>\n",
              "      <td>@virgintrain see attach error message. i'v tri leav a voicemail sever time in the past week https://t.co/nxvzjlyx1k</td>\n",
              "      <td>['virgintrains see attached error message ive tried leaving voicemail several time past week httpstconxvzjlyx1k']</td>\n",
              "    </tr>\n",
              "  </tbody>\n",
              "</table>\n",
              "</div>\n",
              "      <button class=\"colab-df-convert\" onclick=\"convertToInteractive('df-d97d8f42-5323-46be-935b-d98536e4531a')\"\n",
              "              title=\"Convert this dataframe to an interactive table.\"\n",
              "              style=\"display:none;\">\n",
              "        \n",
              "  <svg xmlns=\"http://www.w3.org/2000/svg\" height=\"24px\"viewBox=\"0 0 24 24\"\n",
              "       width=\"24px\">\n",
              "    <path d=\"M0 0h24v24H0V0z\" fill=\"none\"/>\n",
              "    <path d=\"M18.56 5.44l.94 2.06.94-2.06 2.06-.94-2.06-.94-.94-2.06-.94 2.06-2.06.94zm-11 1L8.5 8.5l.94-2.06 2.06-.94-2.06-.94L8.5 2.5l-.94 2.06-2.06.94zm10 10l.94 2.06.94-2.06 2.06-.94-2.06-.94-.94-2.06-.94 2.06-2.06.94z\"/><path d=\"M17.41 7.96l-1.37-1.37c-.4-.4-.92-.59-1.43-.59-.52 0-1.04.2-1.43.59L10.3 9.45l-7.72 7.72c-.78.78-.78 2.05 0 2.83L4 21.41c.39.39.9.59 1.41.59.51 0 1.02-.2 1.41-.59l7.78-7.78 2.81-2.81c.8-.78.8-2.07 0-2.86zM5.41 20L4 18.59l7.72-7.72 1.47 1.35L5.41 20z\"/>\n",
              "  </svg>\n",
              "      </button>\n",
              "      \n",
              "  <style>\n",
              "    .colab-df-container {\n",
              "      display:flex;\n",
              "      flex-wrap:wrap;\n",
              "      gap: 12px;\n",
              "    }\n",
              "\n",
              "    .colab-df-convert {\n",
              "      background-color: #E8F0FE;\n",
              "      border: none;\n",
              "      border-radius: 50%;\n",
              "      cursor: pointer;\n",
              "      display: none;\n",
              "      fill: #1967D2;\n",
              "      height: 32px;\n",
              "      padding: 0 0 0 0;\n",
              "      width: 32px;\n",
              "    }\n",
              "\n",
              "    .colab-df-convert:hover {\n",
              "      background-color: #E2EBFA;\n",
              "      box-shadow: 0px 1px 2px rgba(60, 64, 67, 0.3), 0px 1px 3px 1px rgba(60, 64, 67, 0.15);\n",
              "      fill: #174EA6;\n",
              "    }\n",
              "\n",
              "    [theme=dark] .colab-df-convert {\n",
              "      background-color: #3B4455;\n",
              "      fill: #D2E3FC;\n",
              "    }\n",
              "\n",
              "    [theme=dark] .colab-df-convert:hover {\n",
              "      background-color: #434B5C;\n",
              "      box-shadow: 0px 1px 3px 1px rgba(0, 0, 0, 0.15);\n",
              "      filter: drop-shadow(0px 1px 2px rgba(0, 0, 0, 0.3));\n",
              "      fill: #FFFFFF;\n",
              "    }\n",
              "  </style>\n",
              "\n",
              "      <script>\n",
              "        const buttonEl =\n",
              "          document.querySelector('#df-d97d8f42-5323-46be-935b-d98536e4531a button.colab-df-convert');\n",
              "        buttonEl.style.display =\n",
              "          google.colab.kernel.accessAllowed ? 'block' : 'none';\n",
              "\n",
              "        async function convertToInteractive(key) {\n",
              "          const element = document.querySelector('#df-d97d8f42-5323-46be-935b-d98536e4531a');\n",
              "          const dataTable =\n",
              "            await google.colab.kernel.invokeFunction('convertToInteractive',\n",
              "                                                     [key], {});\n",
              "          if (!dataTable) return;\n",
              "\n",
              "          const docLinkHtml = 'Like what you see? Visit the ' +\n",
              "            '<a target=\"_blank\" href=https://colab.research.google.com/notebooks/data_table.ipynb>data table notebook</a>'\n",
              "            + ' to learn more about interactive tables.';\n",
              "          element.innerHTML = '';\n",
              "          dataTable['output_type'] = 'display_data';\n",
              "          await google.colab.output.renderOutput(dataTable, element);\n",
              "          const docLink = document.createElement('div');\n",
              "          docLink.innerHTML = docLinkHtml;\n",
              "          element.appendChild(docLink);\n",
              "        }\n",
              "      </script>\n",
              "    </div>\n",
              "  </div>\n",
              "  "
            ],
            "text/plain": [
              "   tweet_id     author_id  inbound                      created_at  \\\n",
              "0    119237        105834     True  Wed Oct 11 06:55:44 +0000 2017   \n",
              "1    119238  ChaseSupport    False  Wed Oct 11 13:25:49 +0000 2017   \n",
              "2    119239        105835     True  Wed Oct 11 13:00:09 +0000 2017   \n",
              "3    119240  VirginTrains    False  Tue Oct 10 15:16:08 +0000 2017   \n",
              "4    119241        105836     True  Tue Oct 10 15:17:21 +0000 2017   \n",
              "\n",
              "                                                                                                                                                  text  \\\n",
              "0                                        @AppleSupport causing the reply to be disregarded and the tapped notification under the keyboard is opened😡😡😡   \n",
              "1        @105835 Your business means a lot to us. Please DM your name, zip code and additional details about your concern. ^RR https://t.co/znUu1VJn9r   \n",
              "2                                                               @76328 I really hope you all change but I'm sure you won't! Because you don't have to!   \n",
              "3  @105836 LiveChat is online at the moment - https://t.co/SY94VtU8Kq or contact 03331 031 031 option 1, 4, 3 (Leave a message) to request a call back   \n",
              "4                      @VirginTrains see attached error message. I've tried leaving a voicemail several times in the past week https://t.co/NxVZjlYx1k   \n",
              "\n",
              "  response_tweet_id  in_response_to_tweet_id  \\\n",
              "0            119236                      NaN   \n",
              "1               NaN                 119239.0   \n",
              "2            119238                      NaN   \n",
              "3            119241                 119242.0   \n",
              "4            119243                 119240.0   \n",
              "\n",
              "                                                                                                                                  clean_msg  \\\n",
              "0                              applesupport causing the reply to be disregarded and the tapped notification under the keyboard is opened😡😡😡   \n",
              "1       105835 your business means a lot to us please dm your name zip code and additional details about your concern rr httpstcoznuu1vjn9r   \n",
              "2                                                          76328 i really hope you all change but im sure you wont because you dont have to   \n",
              "3  105836 livechat is online at the moment  httpstcosy94vtu8kq or contact 03331 031 031 option 1 4 3 leave a message to request a call back   \n",
              "4                   virgintrains see attached error message ive tried leaving a voicemail several times in the past week httpstconxvzjlyx1k   \n",
              "\n",
              "                                                                                                                                              new_text  \\\n",
              "0                                        @applesupport causing the reply to be disregarded and the tapped notification under the keyboard is opened😡😡😡   \n",
              "1        @105835 your business means a lot to us. please dm your name, zip code and additional details about your concern. ^rr https://t.co/znuu1vjn9r   \n",
              "2                                                               @76328 i really hope you all change but i'm sure you won't! because you don't have to!   \n",
              "3  @105836 livechat is online at the moment - https://t.co/sy94vtu8kq or contact 03331 031 031 option 1, 4, 3 (leave a message) to request a call back   \n",
              "4                      @virgintrains see attached error message. i've tried leaving a voicemail several times in the past week https://t.co/nxvzjlyx1k   \n",
              "\n",
              "                                                                                                                                 msg_tokenied  \\\n",
              "0                              [applesupport causing the reply to be disregarded and the tapped notification under the keyboard is opened😡😡😡]   \n",
              "1       [105835 your business means a lot to us please dm your name zip code and additional details about your concern rr httpstcoznuu1vjn9r]   \n",
              "2                                                          [76328 i really hope you all change but im sure you wont because you dont have to]   \n",
              "3  [105836 livechat is online at the moment  httpstcosy94vtu8kq or contact 03331 031 031 option 1 4 3 leave a message to request a call back]   \n",
              "4                   [virgintrains see attached error message ive tried leaving a voicemail several times in the past week httpstconxvzjlyx1k]   \n",
              "\n",
              "                                                                                                              text_wo_stop  \\\n",
              "0                                        ['applesupport causing reply disregarded tapped notification keyboard opened😡😡😡']   \n",
              "1                ['105835 business means lot us please dm name zip code additional details concern rr httpstcoznuu1vjn9r']   \n",
              "2                                                                        ['76328 really hope change im sure wont dont to']   \n",
              "3  ['105836 livechat online moment httpstcosy94vtu8kq contact 03331 031 031 option 1 4 3 leave message request call back']   \n",
              "4       ['virgintrains see attached error message ive tried leaving voicemail several times past week httpstconxvzjlyx1k']   \n",
              "\n",
              "                                                                                                                                        text_stemmed  \\\n",
              "0                                                     @applesupport caus the repli to be disregard and the tap notif under the keyboard is opened😡😡😡   \n",
              "1                  @105835 your busi mean a lot to us. pleas DM your name, zip code and addit detail about your concern. ^rr https://t.co/znuu1vjn9r   \n",
              "2                                                               @76328 I realli hope you all chang but i'm sure you won't! becaus you don't have to!   \n",
              "3  @105836 livechat is onlin at the moment - https://t.co/sy94vtu8kq or contact 03331 031 031 option 1, 4, 3 (leav a message) to request a call back   \n",
              "4                                @virgintrain see attach error message. i'v tri leav a voicemail sever time in the past week https://t.co/nxvzjlyx1k   \n",
              "\n",
              "                                                                                                           text_lemmatized  \n",
              "0                                        ['applesupport causing reply disregarded tapped notification keyboard opened😡😡😡']  \n",
              "1                   ['105835 business mean lot u please dm name zip code additional detail concern rr httpstcoznuu1vjn9r']  \n",
              "2                                                                        ['76328 really hope change im sure wont dont to']  \n",
              "3  ['105836 livechat online moment httpstcosy94vtu8kq contact 03331 031 031 option 1 4 3 leave message request call back']  \n",
              "4        ['virgintrains see attached error message ive tried leaving voicemail several time past week httpstconxvzjlyx1k']  "
            ]
          },
          "metadata": {},
          "execution_count": 53
        }
      ]
    },
    {
      "cell_type": "markdown",
      "source": [
        "**Part-of-Speech Tagging**\n",
        "Part of Speech (POS) is a way to describe the grammatical function of a word. In Natural Language Processing (NLP), POS is an essential building block of language models and interpreting text.\n",
        "\n",
        "There are eight (sometimes nine 1) different parts of speech in English that are commonly defined 3.\n",
        "\n",
        "*   Noun: A noun is the name of a person, place, thing, or idea.\n",
        "*   Pronoun: A pronoun is a word used in place of a noun.\n",
        "*   Verb: A verb expresses action or being.\n",
        "*   Adjective: An adjective modifies or describes a noun or pronoun.\n",
        "*   Adverb: An adverb modifies or describes a verb, an adjective, or another adverb.\n",
        "*   Preposition: A preposition is a word placed before a noun or pronoun to form a phrase modifying another word in the sentence.\n",
        "*   Conjunction: A conjunction joins words, phrases, or clauses.\n",
        "*   Interjection: An interjection is a word used to express emotion.\n",
        "*   Determiner or Article: A grammatical marker of definiteness (the) or indefiniteness (a, an). These are not always considered POS but are often included in POS tagging libraries.\n",
        "\n",
        "\n",
        "\n",
        "\n",
        "\n",
        "\n",
        "\n",
        "\n"
      ],
      "metadata": {
        "id": "zej_N44djXhd"
      }
    },
    {
      "cell_type": "code",
      "source": [
        "nltk.download('punkt')\n",
        "nltk.download('averaged_perceptron_tagger')\n",
        "# input text\n",
        "sentence = \"This is an example of part of speech tagging.\"\n",
        "\n",
        "# tokene into words\n",
        "tokens = nltk.word_tokenize(sentence)\n",
        "\n",
        "# parts of speech tagging\n",
        "tagged = nltk.pos_tag(tokens)\n",
        "\n",
        "# print tagged tokens\n",
        "print(tagged)"
      ],
      "metadata": {
        "colab": {
          "base_uri": "https://localhost:8080/"
        },
        "id": "ObZY07Iyn_nd",
        "outputId": "a2660297-ae5c-45dc-e8ab-67c6a69fee2c"
      },
      "execution_count": 65,
      "outputs": [
        {
          "output_type": "stream",
          "name": "stdout",
          "text": [
            "[nltk_data] Downloading package punkt to /root/nltk_data...\n",
            "[nltk_data]   Package punkt is already up-to-date!\n",
            "[nltk_data] Downloading package averaged_perceptron_tagger to\n",
            "[nltk_data]     /root/nltk_data...\n",
            "[nltk_data]   Package averaged_perceptron_tagger is already up-to-\n",
            "[nltk_data]       date!\n",
            "[('This', 'DT'), ('is', 'VBZ'), ('an', 'DT'), ('example', 'NN'), ('of', 'IN'), ('part', 'NN'), ('of', 'IN'), ('speech', 'NN'), ('tagging', 'NN'), ('.', '.')]\n"
          ]
        }
      ]
    },
    {
      "cell_type": "code",
      "source": [
        "\n",
        "def process_content():\n",
        "    try:\n",
        "        for i in df['text_wo_stop']:\n",
        "            words = nltk.word_tokenize(i)\n",
        "            tagged = nltk.pos_tag(words)\n",
        "            print(tagged)\n",
        "\n",
        "    except Exception as e:\n",
        "        print(str(e))\n",
        "\n",
        "process_content()"
      ],
      "metadata": {
        "colab": {
          "base_uri": "https://localhost:8080/"
        },
        "id": "EcQmZ43KmDmi",
        "outputId": "f856e66a-ed4b-4dda-adab-4e3937e52cfe"
      },
      "execution_count": 66,
      "outputs": [
        {
          "output_type": "stream",
          "name": "stdout",
          "text": [
            "[('[', 'JJ'), (\"'applesupport\", 'CD'), ('causing', 'VBG'), ('reply', 'NN'), ('disregarded', 'VBD'), ('tapped', 'JJ'), ('notification', 'NN'), ('keyboard', 'NN'), ('opened😡😡😡', 'NN'), (\"'\", 'POS'), (']', 'NN')]\n",
            "[('[', 'JJ'), (\"'105835\", 'POS'), ('business', 'NN'), ('means', 'NNS'), ('lot', 'VBP'), ('us', 'PRP'), ('please', 'VB'), ('dm', 'JJ'), ('name', 'NN'), ('zip', 'NN'), ('code', 'NN'), ('additional', 'JJ'), ('details', 'NNS'), ('concern', 'NN'), ('rr', 'VBP'), ('httpstcoznuu1vjn9r', 'NN'), (\"'\", \"''\"), (']', 'NN')]\n",
            "[('[', 'JJ'), (\"'76328\", 'POS'), ('really', 'RB'), ('hope', 'VBP'), ('change', 'NN'), ('im', 'NN'), ('sure', 'JJ'), ('wont', 'JJ'), ('dont', 'NN'), ('to', 'TO'), (\"'\", 'POS'), (']', 'NNS')]\n",
            "[('[', 'JJ'), (\"'105836\", 'POS'), ('livechat', 'WP'), ('online', 'VBP'), ('moment', 'NN'), ('httpstcosy94vtu8kq', 'NN'), ('contact', 'NN'), ('03331', 'CD'), ('031', 'CD'), ('031', 'CD'), ('option', 'NN'), ('1', 'CD'), ('4', 'CD'), ('3', 'CD'), ('leave', 'JJ'), ('message', 'NN'), ('request', 'NN'), ('call', 'NN'), ('back', 'RB'), (\"'\", 'POS'), (']', 'NN')]\n",
            "[('[', 'NN'), (\"'virgintrains\", 'NNS'), ('see', 'VBP'), ('attached', 'VBN'), ('error', 'JJ'), ('message', 'NN'), ('ive', 'JJ'), ('tried', 'VBD'), ('leaving', 'VBG'), ('voicemail', 'NN'), ('several', 'JJ'), ('times', 'NNS'), ('past', 'JJ'), ('week', 'NN'), ('httpstconxvzjlyx1k', 'NN'), (\"'\", 'POS'), (']', 'NN')]\n",
            "[('[', 'NN'), (\"'105836\", 'POS'), ('tried', 'VBD'), ('another', 'DT'), ('device', 'NN'), ('miriam', 'NN'), ('mm', 'NN'), (\"'\", 'POS'), (']', 'NN')]\n",
            "[('[', 'NN'), (\"'virgintrains\", 'VBZ'), ('yep', 'JJ'), ('ive', 'JJ'), ('tried', 'VBN'), ('laptop', 'JJ'), ('several', 'JJ'), ('times', 'NNS'), ('past', 'JJ'), ('week', 'NN'), ('today', 'NN'), ('ive', 'VBP'), ('tried', 'VBN'), ('different', 'JJ'), ('browsers', 'NNS'), ('too', 'RB'), (\"'\", 'POS'), (']', 'NN')]\n",
            "[('[', 'NN'), (\"'105836\", 'CD'), ('working', 'VBG'), ('ok', 'JJ'), ('miriam', 'NN'), ('link', 'NN'), ('help', 'NN'), ('httpstco0m2mph15eh', 'VB'), ('mm', 'NN'), (\"'\", \"''\"), (']', 'NN')]\n",
            "[('[', 'NN'), (\"'virgintrains\", 'NNS'), ('still', 'RB'), ('havent', 'JJ'), ('heard', 'NN'), ('amp', 'IN'), ('number', 'NN'), ('im', 'NN'), ('directed', 'VBD'), ('phone', 'NN'), ('dead', 'JJ'), ('end', 'NN'), ('amp', 'NN'), ('live', 'VBP'), ('chat', 'NN'), ('doesnt', 'NN'), ('work', 'NN'), ('someone', 'NN'), ('call', 'VB'), ('me', 'PRP'), (\"'\", \"''\"), (']', 'NN')]\n",
            "[('[', 'JJ'), (\"'105836\", 'CD'), ('thats', 'NNS'), ('miriam', 'VBP'), ('😊', 'NNP'), ('team', 'NN'), ('send', 'NN'), ('email', 'NN'), ('shortly', 'RB'), ('hp', 'VBD'), (\"'\", \"''\"), (']', 'NN')]\n",
            "[('[', 'NN'), (\"'105837\", 'POS'), ('help', 'NN'), ('version', 'NN'), ('ios', 'NNS'), ('find', 'VBP'), ('settings', 'NNS'), ('gt', 'JJ'), ('general', 'JJ'), ('gt', 'NN'), ('reply', 'NN'), ('dm', 'JJ'), ('httpstcogdrqu22ypt', 'NN'), (\"'\", 'POS'), (']', 'NN')]\n",
            "[('[', 'JJ'), (\"'105838\", 'POS'), ('applesupport', 'NN'), ('suffering', 'VBG'), ('hope', 'NN'), ('find', 'IN'), ('solution', 'NN'), (\"'\", 'POS'), (']', 'NN')]\n",
            "[('[', 'JJ'), (\"'applesupport\", 'POS'), ('hi', 'NN'), ('apple', 'NN'), ('i', 'NN'), ('’', 'VBP'), ('ve', 'NN'), ('concern', 'NN'), ('latest', 'JJS'), ('ios', 'NNS'), ('slow', 'JJ'), ('iphone6', 'NN'), ('happy', 'JJ'), ('solution', 'NN'), ('please', 'NN'), (\"'\", 'POS'), (']', 'NN')]\n",
            "[('[', 'JJ'), (\"'105839\", 'POS'), ('thanks', 'NNS'), ('reaching', 'VBG'), ('us', 'PRP'), ('always', 'RB'), ('happy', 'JJ'), ('help', 'NN'), ('send', 'VB'), ('us', 'PRP'), ('dm', 'VB'), ('look', 'VB'), ('together', 'RB'), ('httpstcogdrqu22ypt', 'NN'), (\"'\", \"''\"), (']', 'NN')]\n",
            "[('[', 'JJ'), (\"'i\", 'POS'), ('updated', 'JJ'), ('phone', 'NN'), ('suddenly', 'RB'), ('everything', 'NN'), ('takes', 'VBZ'), ('ages', 'NNS'), ('load', 'RB'), ('wtf', 'VBP'), ('76099', 'CD'), ('update', 'JJ'), ('sux', 'NN'), ('hate', 'NN'), ('fix', 'NN'), ('bye', 'NN'), (\"'\", 'POS'), (']', 'NN')]\n",
            "[('[', 'JJ'), (\"'105840\", 'POS'), ('hi', 'NN'), ('device', 'NN'), ('happening', 'VBG'), ('could', 'MD'), ('also', 'RB'), ('let', 'VB'), ('us', 'PRP'), ('know', 'VB'), ('android', 'JJ'), ('spotify', 'JJ'), ('versions', 'NNS'), ('youre', 'VBP'), ('using', 'VBG'), ('thatd', 'NN'), ('great', 'JJ'), ('ay', 'NN'), (\"'\", 'POS'), (']', 'NN')]\n",
            "[('[', 'JJ'), (\"'spotifycares\", 'VBZ'), ('thanks', 'NNS'), ('version', 'NN'), ('8422857', 'CD'), ('armv7', 'NN'), ('anker', 'NN'), ('bluetooth', 'DT'), ('speaker', 'NN'), ('samsung', 'NN'), ('galaxy', 'NN'), ('tab', 'NN'), ('2016', 'CD'), ('model', 'NN'), ('smt280', 'NN'), ('distance', 'NN'), ('speaker', 'NN'), ('matter', 'NN'), (\"'\", 'POS'), (']', 'NN')]\n",
            "[('[', 'JJ'), (\"'105840\", 'POS'), ('thanks', 'NNS'), ('distance', 'NN'), ('could', 'MD'), ('possibly', 'RB'), ('affect', 'VB'), ('playback', 'NN'), ('logging', 'VBG'), ('gt', 'NN'), ('restarting', 'VBG'), ('device', 'NN'), ('gt', 'NN'), ('logging', 'VBG'), ('back', 'RB'), ('make', 'VB'), ('difference', 'NN'), ('ay', 'NN'), (\"'\", 'POS'), (']', 'NN')]\n",
            "[('[', 'JJ'), (\"'spotifycares\", 'NNS'), ('ive', 'VBP'), ('moved', 'VBN'), ('speaker', 'NN'), ('1', 'CD'), ('metre', 'NN'), ('away', 'RB'), ('skipping', 'VBG'), ('mo', 'JJ'), ('3', 'CD'), ('4', 'CD'), ('metres', 'NNS'), ('away', 'RB'), ('fingers', 'NNS'), ('crossed', 'VBD'), (\"'\", 'POS'), (']', 'NN')]\n",
            "[('[', 'JJ'), (\"'105840\", 'CD'), ('thats', 'NNS'), ('great', 'JJ'), ('hear', 'JJ'), ('anything', 'NN'), ('comes', 'VBZ'), ('let', 'VB'), ('us', 'PRP'), ('know', 'VB'), ('well', 'RB'), ('carry', 'JJ'), ('helping', 'VBG'), ('🙂', 'JJ'), ('ay', 'NN'), (\"'\", 'POS'), (']', 'NN')]\n",
            "[('[', 'JJ'), (\"'spotifycares\", 'NNS'), ('brilliant', 'JJ'), ('thanks', 'NNS'), ('😊', 'VBP'), (\"'\", \"''\"), (']', 'NN')]\n",
            "[('[', 'JJ'), (\"'105840\", 'POS'), ('youre', 'NN'), ('welcome', 'NN'), ('theres', 'NNS'), ('anything', 'NN'), ('else', 'RB'), ('help', 'VB'), ('give', 'VB'), ('us', 'PRP'), ('shout', 'RP'), ('😉', 'JJ'), ('cp', 'NN'), (\"'\", 'POS'), (']', 'NN')]\n",
            "[('[', 'JJ'), (\"'76495\", 'POS'), ('91226', 'CD'), ('please', 'NN'), ('help', 'NN'), ('spotify', 'VB'), ('premium', 'JJ'), ('skipping', 'VBG'), ('songs', 'NNS'), ('constantly', 'RB'), ('android', 'VBP'), ('tablet', 'NN'), ('amp', 'NN'), ('bluetooth', 'DT'), ('speaker', 'NN'), ('tried', 'VBD'), ('everything', 'NN'), (\"'\", \"''\"), (']', 'NNS')]\n",
            "[('[', 'JJ'), (\"'105841\", 'POS'), ('wed', 'VBN'), ('love', 'NN'), ('help', 'NN'), ('please', 'VB'), ('dm', 'VB'), ('us', 'PRP'), ('let', 'VB'), ('us', 'PRP'), ('know', 'VB'), ('steps', 'NNS'), ('youve', 'RB'), ('tried', 'VBD'), ('since', 'IN'), ('experiencing', 'VBG'), ('behaviors', 'NNS'), ('httpstcogdrqu22ypt', 'VBP'), (\"'\", \"''\"), (']', 'NN')]\n",
            "[('[', 'NN'), (\"'applesupport\", 'NN'), ('1102', 'CD'), ('phone', 'NN'), ('sucks', 'NNS'), ('apps', 'VBP'), ('broken', 'JJ'), ('wifi', 'NN'), ('disconnects', 'NNS'), ('frequently', 'RB'), ('apple', 'NN'), ('ios1102', 'NN'), ('painfulupdate', 'NN'), (\"'\", \"''\"), (']', 'NN')]\n",
            "[('[', 'JJ'), (\"'105842\", 'POS'), ('sorry', 'NN'), ('flight', 'NN'), ('delayed', 'VBD'), ('beatner', 'NN'), ('travelling', 'VBG'), ('ba8733', 'NN'), ('updated', 'JJ'), ('departure', 'NN'), ('time', 'NN'), ('1530', 'CD'), ('12', 'CD'), (\"'\", 'POS'), (']', 'NN')]\n",
            "[('[', 'JJ'), (\"'first\", 'POS'), ('flight', 'NN'), ('long', 'JJ'), ('time', 'NN'), ('britishairways', 'VBZ'), ('one', 'CD'), ('1h', 'CD'), ('delay', 'NN'), ('short', 'JJ'), ('jump', 'NN'), ('fralcy', 'RB'), ('one', 'CD'), ('provide', 'NN'), ('status', 'NN'), ('updates', 'NNS'), (\"'\", 'POS'), (']', 'NN')]\n",
            "[('[', 'JJ'), (\"'105843\", 'POS'), ('battery', 'NN'), ('life', 'NN'), ('important', 'JJ'), ('dm', 'VBZ'), ('us', 'PRP'), ('ios', 'JJ'), ('version', 'NN'), ('iphone', 'NN'), ('running', 'VBG'), ('well', 'RB'), ('go', 'VB'), ('httpstcogdrqu22ypt', 'NN'), (\"'\", \"''\"), (']', 'NN')]\n",
            "[('[', 'JJ'), (\"'okay\", 'POS'), ('76099', 'CD'), ('used', 'JJ'), ('fucking', 'VBG'), ('phone', 'NN'), ('2', 'CD'), ('minutes', 'NNS'), ('drains', 'VBZ'), ('8', 'CD'), ('fucking', 'VBG'), ('percent', 'NN'), (\"'\", \"''\"), (']', 'NN')]\n",
            "[('[', 'JJ'), (\"'105844\", 'POS'), ('thanks', 'NNS'), ('reaching', 'VBG'), ('us', 'PRP'), ('always', 'RB'), ('happy', 'JJ'), ('help', 'NN'), ('send', 'VB'), ('us', 'PRP'), ('dm', 'VB'), ('look', 'VB'), ('together', 'RB'), ('httpstcogdrqu22ypt', 'NN'), (\"'\", \"''\"), (']', 'NN')]\n",
            "[('[', 'NN'), (\"'applesupport\", 'POS'), ('get', 'VB'), ('iphone', 'NN'), ('7plus', 'CD'), ('back', 'RB'), ('old', 'JJ'), ('ios', 'NNS'), ('please', 'VB'), ('battery', 'NN'), ('runs', 'VBZ'), ('half', 'JJ'), ('time', 'NN'), ('apps', 'VBZ'), ('frequently', 'RB'), ('crash', 'JJ'), (\"'\", \"''\"), (']', 'NN')]\n",
            "[('[', 'JJ'), (\"'105844\", 'POS'), ('wed', 'VBD'), ('happy', 'JJ'), ('help', 'NN'), ('send', 'VB'), ('us', 'PRP'), ('dm', 'JJ'), ('start', 'VBP'), ('httpstcogdrqu22ypt', 'NN'), (\"'\", \"''\"), (']', 'NN')]\n",
            "[('[', 'NN'), (\"'you\", 'POS'), ('’', 'NNP'), ('ve', 'NN'), ('paralysed', 'VBD'), ('phone', 'NN'), ('update', 'NN'), ('76099', 'CD'), ('grrrrrrrrrr', 'NN'), (\"'\", \"''\"), (']', 'NN')]\n",
            "[('[', 'JJ'), (\"'82476\", 'POS'), ('🤔', 'NN'), ('wed', 'VBD'), ('like', 'IN'), ('help', 'NN'), ('sam', 'VB'), ('number', 'NN'), ('calling', 'VBG'), ('please', 'NN'), ('dm', 'VB'), ('us', 'PRP'), ('info', 'JJ'), ('advise', 'NN'), ('httpstco5pyldjbc6r', 'NN'), (\"'\", 'POS'), (']', 'NN')]\n",
            "[('[', 'NN'), (\"'o2\", \"''\"), ('received', 'VBN'), ('weeks', 'NNS'), ('ago', 'RB'), ('since', 'IN'), ('ive', 'JJ'), ('getting', 'VBG'), ('23', 'CD'), ('calls', 'NNS'), ('day', 'NN'), ('telemarketer', 'IN'), ('someone', 'NN'), ('using', 'VBG'), ('name', 'NN'), ('httpstcogltz4xhcex', 'NN'), (\"'\", 'POS'), (']', 'NN')]\n",
            "[('[', 'JJ'), (\"'105845\", 'CD'), ('understand', 'JJ'), ('frustrating', 'VBG'), ('experience', 'NN'), ('please', 'NN'), ('send', 'VB'), ('dm', 'JJ'), ('account', 'NN'), ('information', 'NN'), ('look', 'VBP'), ('matter', 'NN'), ('ad', 'NN'), (\"'\", 'POS'), (']', 'NN')]\n",
            "[('[', 'JJ'), (\"'my\", 'POS'), ('internet', 'NN'), ('xfinity', 'NN'), ('talkin', 'NN'), ('2472', 'CD'), ('hours', 'NNS'), ('y', 'CC'), ('’', 'VBP'), ('all', 'DT'), ('game', 'NN'), ('messed', 'VBD'), ('\\\\n\\\\n77245', 'NNP'), (\"'\", 'POS'), (']', 'NN')]\n",
            "[('[', 'JJ'), (\"'105676\", 'CD'), ('understand', 'NN'), ('frustrated', 'VBN'), ('situation', 'NN'), ('please', 'NN'), ('follow', 'VB'), ('us', 'PRP'), ('sending', 'VBG'), ('dm', 'JJ'), ('assistance', 'NN'), ('sprint', 'NN'), ('cares', 'NNS'), ('ac', 'VBP'), (\"'\", \"''\"), (']', 'NN')]\n",
            "[('[', 'JJ'), (\"'76803\", 'NNP'), ('service', 'NN'), ('last', 'JJ'), ('40', 'CD'), ('min', 'NN'), ('sprint', 'NN'), ('get', 'VBP'), ('refund', 'VBN'), ('httpstcowypw9hp6wt', 'NN'), (\"'\", \"''\"), (']', 'NN')]\n",
            "[('[', 'JJ'), (\"'105846\", 'POS'), ('wed', 'VBN'), ('like', 'IN'), ('help', 'NN'), ('happens', 'NNS'), ('try', 'VBP'), ('listen', 'JJ'), ('apple', 'NN'), ('music', 'NN'), ('amp', 'NN'), ('use', 'NN'), ('whatsapp', 'JJ'), ('music', 'NN'), ('pause', 'NN'), ('let', 'VBD'), ('us', 'PRP'), ('know', 'VB'), ('dm', 'JJ'), ('httpstcogdrqu22ypt', 'NN'), (\"'\", 'POS'), (']', 'NN')]\n",
            "[('[', 'NNS'), (\"'so\", 'POS'), ('new', 'JJ'), ('76099', 'CD'), ('update', 'JJ'), ('let', 'NN'), ('listen', 'VB'), ('music', 'NN'), ('go', 'VB'), ('whatsapp', 'JJ'), ('time', 'NN'), (\"'\", 'POS'), (']', 'NN')]\n",
            "[('[', 'JJ'), (\"'105847\", 'POS'), ('hi', 'NN'), ('harry', 'NN'), ('helps', 'VBZ'), ('check', 'VB'), ('logging', 'VBG'), ('gt', 'JJ'), ('restarting', 'VBG'), ('device', 'NN'), ('gt', 'NN'), ('logging', 'VBG'), ('back', 'RP'), ('makes', 'VBZ'), ('difference', 'NN'), ('keep', 'VB'), ('us', 'PRP'), ('posted', 'JJ'), ('mu', 'NN'), (\"'\", 'POS'), (']', 'NN')]\n",
            "[('[', 'NN'), (\"'spotifycares\", 'VBZ'), ('seems', 'VBZ'), ('working', 'VBG'), ('stage', 'NN'), ('let', 'NN'), ('know', 'VB'), ('happens', 'VBZ'), ('cheers', 'NNS'), (\"'\", 'POS'), (']', 'NN')]\n",
            "[('[', 'JJ'), (\"'105847\", 'POS'), ('sure', 'JJ'), ('thing', 'NN'), ('well', 'RB'), ('keep', 'VB'), ('eye', 'NN'), ('update', 'JJ'), ('mu', 'NN'), (\"'\", 'POS'), (']', 'NN')]\n",
            "[('[', 'NN'), (\"'spotifycares\", 'VBZ'), ('problem', 'NN'), ('come', 'VB'), ('back', 'RB'), ('today', 'NN'), ('kind', 'NN'), ('bug', 'NN'), (\"'\", 'POS'), (']', 'NN')]\n",
            "[('[', 'JJ'), (\"'105847\", 'POS'), ('thanks', 'NNS'), ('giving', 'VBG'), ('us', 'PRP'), ('nudge', 'JJ'), ('device', 'NN'), ('operating', 'VBG'), ('system', 'NN'), ('spotify', 'JJ'), ('version', 'NN'), ('happening', 'VBG'), ('ay', 'NN'), (\"'\", \"''\"), (']', 'NN')]\n",
            "[('[', 'JJ'), (\"'spotifycares\", 'NNS'), ('macbook', 'VBP'), ('air', 'RB'), ('early', 'JJ'), ('2014', 'CD'), ('running', 'VBG'), ('high', 'JJ'), ('sierra', 'NN'), ('spotify', 'VB'), ('version', 'NN'), ('1065320gac7a8e02', 'CD'), (\"'\", 'POS'), (']', 'NN')]\n",
            "[('[', 'JJ'), (\"'105847\", 'NNP'), ('got', 'VBD'), ('try', 'JJ'), ('steps', 'NNS'), ('us', 'PRP'), ('httpstcoeqisdmwzat', 'VBP'), ('help', 'VB'), ('let', 'VB'), ('us', 'PRP'), ('know', 'VB'), ('plays', 'VBZ'), ('ay', 'NN'), (\"'\", \"''\"), (']', 'NN')]\n",
            "[('[', 'JJ'), (\"'spotifycares\", 'NNS'), ('ive', 'JJ'), ('issues', 'NNS'), ('playback', 'VBP'), ('songs', 'NNS'), ('stopping', 'VBG'), ('midway', 'RB'), ('wont', 'JJ'), ('restart', 'NN'), ('unless', 'IN'), ('close', 'JJ'), ('reopen', 'JJ'), ('app', 'NN'), (\"'\", 'POS'), (']', 'NN')]\n",
            "[('[', 'JJ'), (\"'105848\", 'POS'), ('lets', 'NNS'), ('take', 'VBP'), ('look', 'VB'), ('exact', 'JJ'), ('ios', 'NNS'), ('youre', 'NN'), ('using', 'VBG'), ('using', 'VBG'), ('specific', 'JJ'), ('apps', 'NN'), ('noticing', 'VBG'), ('dm', 'JJ'), ('us', 'PRP'), ('reply', 'VB'), ('httpstcogdrqu22ypt', 'NN'), (\"'\", \"''\"), (']', 'NN')]\n",
            "[('[', 'JJ'), (\"'applesupport\", 'POS'), ('latest', 'JJS'), ('version', 'NN'), ('😡😡', 'NN'), ('read', 'VB'), ('help', 'NN'), ('page', 'NN'), ('turned', 'VBD'), ('virtually', 'RB'), ('apps', 'JJ'), ('location', 'NN'), ('svs', 'NN'), ('typing', 'VBG'), ('dropped', 'VBD'), ('3', 'CD'), ('life', 'NN'), (\"'\", \"''\"), (']', 'NNS')]\n",
            "[('[', 'JJ'), (\"'applesupport\", 'NNP'), ('super', 'NN'), ('help', 'NN'), ('problem', 'NN'), ('solved', 'VBD'), ('😀', 'NNP'), ('love', 'NN'), ('apple', 'NN'), (\"'\", 'POS'), (']', 'NN')]\n",
            "[('[', 'JJ'), (\"'applesupport\", 'NN'), ('ios11update', 'NN'), ('still', 'RB'), ('killing', 'VBG'), ('battery', 'NN'), ('within', 'IN'), ('12', 'CD'), ('hours', 'NNS'), ('phone', 'NN'), ('10', 'CD'), ('months', 'NNS'), ('old', 'JJ'), ('it', 'PRP'), ('’', 'VBZ'), ('s', 'JJ'), ('disgrace', 'NN'), ('used', 'VBN'), ('get', 'VB'), ('2', 'CD'), ('days', 'NNS'), (\"'\", 'POS'), (']', 'NN')]\n",
            "[('[', 'JJ'), (\"'105849\", 'POS'), ('thanks', 'NNS'), ('reaching', 'VBG'), ('us', 'PRP'), ('always', 'RB'), ('happy', 'JJ'), ('help', 'NN'), ('send', 'VB'), ('us', 'PRP'), ('dm', 'VB'), ('look', 'VB'), ('together', 'RB'), ('httpstcogdrqu22ypt', 'NN'), (\"'\", \"''\"), (']', 'NN')]\n",
            "[('[', 'JJ'), (\"'took\", \"''\"), ('phone', 'NN'), ('charge', 'NN'), ('720am\\\\n\\\\n803am', 'CD'), ('60', 'CD'), ('battery', 'NN'), ('remaining\\\\n\\\\n76099', 'NN'), ('plz', 'NN'), ('beg', 'NN'), ('sort', 'NN'), ('battery', 'NN'), ('life', 'NN'), ('out😩', 'NN'), (\"'\", 'POS'), (']', 'NN')]\n",
            "[('[', 'RB'), (\"'105850\", 'CD'), ('points', 'NNS'), ('load', 'NN'), ('hit', 'VBD'), ('number', 'NN'), ('get', 'VB'), ('immediately', 'RB'), ('youll', 'VB'), ('even', 'RB'), ('receive', 'JJ'), ('congrats', 'NNS'), ('email', 'VBP'), ('almost', 'RB'), ('ac', 'JJ'), (\"'\", \"''\"), (']', 'NN')]\n",
            "[('[', 'JJ'), (\"'southwestair\", 'POS'), ('thank', 'NN'), ('answer', 'NN'), (\"'\", 'POS'), (']', 'NN')]\n",
            "[('[', 'JJ'), (\"'southwestair\", 'POS'), ('curiouswill', 'NN'), ('get', 'VB'), ('companion', 'NN'), ('pass', 'NN'), ('exact', 'JJ'), ('moment', 'NN'), ('get', 'VB'), ('enough', 'JJ'), ('points', 'NNS'), ('wait', 'VBP'), ('thanks', 'NNS'), (\"'\", 'POS'), (']', 'NN')]\n",
            "[('[', 'JJ'), (\"'105851\", 'POS'), ('wed', 'VBN'), ('like', 'IN'), ('provide', 'JJ'), ('assistance', 'NN'), ('tell', 'VBP'), ('us', 'PRP'), ('issue', 'VB'), ('youre', 'NN'), ('experiencing', 'VBG'), ('dm', 'NN'), ('well', 'RB'), ('go', 'VB'), ('httpstcogdrqu22ypt', 'NN'), (\"'\", \"''\"), (']', 'NN')]\n",
            "[('[', 'NN'), (\"'applesupport\", 'POS'), ('need', 'VBP'), ('new', 'JJ'), ('code', 'NN'), ('istore', 'NN'), ('haven', 'JJ'), ('’', 'NNP'), ('t', 'NN'), ('recd', 'NN'), ('msg', 'VBD'), ('many', 'JJ'), ('sent', 'VBD'), ('help', 'NN'), (\"'\", \"''\"), (']', 'NN')]\n",
            "[('[', 'JJ'), (\"'105852\", 'CD'), ('experiencing', 'VBG'), ('issue', 'NN'), ('device', 'NN'), ('dm', 'VBD'), ('us', 'PRP'), ('whats', 'VBZ'), ('going', 'VBG'), ('well', 'RB'), ('see', 'VB'), ('help', 'NN'), ('httpstcogdrqu22ypt', 'VB'), (\"'\", 'POS'), (']', 'NN')]\n",
            "[('[', 'JJ'), (\"'76099\", 'POS'), ('applesupport', 'NN'), ('fix', 'NN'), ('update', 'VBP'), ('it', 'PRP'), ('’', 'VBZ'), ('s', 'JJ'), ('horrible', 'JJ'), (\"'\", 'POS'), (']', 'NN')]\n",
            "[('[', 'JJ'), (\"'105842\", 'CD'), ('appreciate', 'NN'), ('1530', 'CD'), ('hopefully', 'RB'), ('depart', 'JJ'), ('soon', 'RB'), ('sorry', 'JJ'), ('inconvenience', 'NN'), ('delay', 'NN'), ('caused', 'VBD'), ('22', 'CD'), ('jr', 'NN'), (\"'\", \"''\"), (']', 'NN')]\n",
            "[('[', 'JJ'), (\"'britishairways\", 'NNS'), ('thanks', 'NNS'), ('answer', 'VBP'), ('response', 'NN'), ('onsite', 'NN'), ('aircraft', 'NN'), ('depart', 'NN'), ('today', 'NN'), ('rebooking', 'VBG'), ('105853', 'CD'), ('4h', 'CD'), ('delay', 'NN'), (\"'\", \"''\"), (']', 'NNS')]\n",
            "[('[', 'JJ'), (\"'105842\", 'POS'), ('sorry', 'NN'), ('hear', 'VBP'), ('hope', 'VBP'), ('get', 'VB'), ('everything', 'NN'), ('sorted', 'VBN'), ('kind', 'NN'), ('regards', 'NNS'), ('jools', 'NNS'), (\"'\", 'POS'), (']', 'NN')]\n",
            "[('[', 'JJ'), (\"'105854\", 'POS'), ('sorry', 'JJ'), ('poor', 'JJ'), ('experience', 'NN'), ('please', 'NN'), ('dm', 'VB'), ('full', 'JJ'), ('service', 'NN'), ('address', 'NN'), ('name', 'NN'), ('account', 'NN'), ('ass', 'NN'), ('httpstcojezhqgdbmd', 'NN'), (\"'\", 'POS'), (']', 'NN')]\n",
            "[('[', 'JJ'), (\"'askspectrum\", 'POS'), ('yard', 'NN'), ('ive', 'NN'), ('called', 'VBD'), ('45', 'CD'), ('times', 'NNS'), ('6', 'CD'), ('weeks', 'NNS'), ('im', 'JJ'), ('customer', 'NN'), ('pretty', 'RB'), ('tempting', 'VBG'), ('coaxial', 'JJ'), (\"'\", \"''\"), (']', 'NN')]\n",
            "[('[', 'NN'), (\"'76501\", 'POS'), ('guess', 'NN'), ('means', 'VBZ'), ('free', 'JJ'), ('cable', 'NN'), ('neighborhood', 'NN'), ('httpstcofbgee9yxpm', 'NN'), (\"'\", 'POS'), (']', 'NN')]\n",
            "[('[', 'JJ'), (\"'105855\", 'POS'), ('hi', 'NN'), ('thomas', 'NN'), ('colleague', 'NN'), ('believes', 'VBZ'), ('person', 'NN'), ('buying', 'VBG'), ('alcohol', 'NN'), ('looks', 'VBZ'), ('25', 'CD'), ('challenged', 'JJ'), ('id', 'NN'), ('prove', 'NN'), ('theyre', 'NN'), ('age', 'NN'), ('paige', 'NN'), (\"'\", 'POS'), (']', 'NN')]\n",
            "[('[', 'NN'), (\"'tesco\", 'POS'), ('maybe', 'RB'), ('hire', 'NN'), ('colleagues', 'NNS'), ('see', 'VBP'), (\"'\", \"''\"), (']', 'NNS')]\n",
            "[('[', 'JJ'), (\"'tesco\", 'POS'), ('point', 'NN'), ('enforced', 'VBD'), ('properly', 'RB'), ('dont', 'JJ'), ('plus', 'CC'), ('take', 'VB'), ('commonsense', 'NN'), ('think', 'VBP'), ('person', 'NN'), ('look', 'VBP'), ('18', 'CD'), (\"'\", \"''\"), (']', 'NN')]\n",
            "[('[', 'JJ'), (\"'105855\", 'POS'), ('hi', 'NN'), ('thomas', 'NN'), ('correct', 'NN'), ('helps', 'VBZ'), ('store', 'VB'), ('colleagues', 'NNS'), ('judge', 'VBP'), ('age', 'NN'), ('protect', 'NN'), ('making', 'VBG'), ('underage', 'JJ'), ('sales', 'NNS'), ('amanda', 'VBP'), (\"'\", 'POS'), (']', 'NN')]\n",
            "[('[', 'NN'), (\"'tesco\", 'POS'), ('uk', 'JJ'), ('offlicense', 'NN'), ('law', 'NN'), ('18', 'CD'), ('25', 'CD'), (\"'\", 'POS'), (']', 'NN')]\n",
            "[('[', 'JJ'), (\"'105855\", 'POS'), ('hi', 'NN'), ('thomas', 'NN'), ('operate', 'NN'), ('think', 'VBP'), ('25', 'CD'), ('policy', 'NN'), ('stores', 'NNS'), ('id', 'VBP'), ('flattered', 'VBN'), ('idd', 'JJ'), ('helena', 'NN'), (\"'\", 'POS'), (']', 'NN')]\n",
            "[('[', 'NN'), (\"'got\", 'VBD'), ('ids', 'NNS'), ('tesco', 'IN'), ('buying', 'VBG'), ('one', 'CD'), ('adnams', 'JJ'), ('broadside', 'NN'), ('blind', 'IN'), ('part', 'NN'), ('jobspec', 'NN'), ('35', 'CD'), ('99', 'CD'), ('kilos', 'NN'), (\"'\", \"''\"), (']', 'NN')]\n",
            "[('[', 'JJ'), (\"'105856\", 'POS'), ('hi', 'NN'), ('could', 'MD'), ('try', 'VB'), ('deleting', 'VBG'), ('cache', 'NN'), ('cookies', 'NNS'), ('reinstalling', 'VBG'), ('app', 'NN'), ('using', 'VBG'), ('fix', 'JJ'), ('issue', 'NN'), ('dani', 'NN'), (\"'\", 'POS'), (']', 'NN')]\n",
            "[('[', 'JJ'), (\"'tesco\", 'POS'), ('lose', 'NN'), ('shopping', 'NN'), ('ive', 'JJ'), ('done', 'VBN'), ('delete', 'JJ'), ('cachecookies', 'NNS'), ('using', 'VBG'), ('app', 'NN'), (\"'\", \"''\"), (']', 'NN')]\n",
            "[('[', 'JJ'), (\"'105856\", 'POS'), ('hi', 'NN'), ('long', 'RB'), ('sign', 'JJ'), ('account', 'NN'), ('prior', 'RB'), ('deleting', 'VBG'), ('cache', 'NN'), ('amp', 'NN'), ('cookies', 'NNS'), ('youll', 'VBP'), ('still', 'RB'), ('full', 'JJ'), ('basket', 'NN'), ('thanks', 'NNS'), ('mike', 'VBP'), (\"'\", \"''\"), (']', 'NN')]\n",
            "[('[', 'NN'), (\"'tesco\", \"''\"), ('done', 'VBN'), ('still', 'RB'), ('telling', 'VBG'), ('delivery', 'NN'), ('slots', 'NNS'), ('whatsoever', 'WDT'), (\"'\", 'POS'), (']', 'NN')]\n",
            "[('[', 'JJ'), (\"'105856\", 'POS'), ('dm', 'NN'), ('full', 'JJ'), ('name', 'NN'), ('address', 'NN'), ('email', 'NN'), ('id', 'NN'), ('happy', 'JJ'), ('look', 'NN'), ('thanks', 'NNS'), ('mike', 'VBP'), (\"'\", \"''\"), (']', 'NN')]\n",
            "[('[', 'NN'), (\"'hey\", 'POS'), ('tesco', 'NN'), ('websites', 'VBZ'), ('broken', 'IN'), ('telling', 'VBG'), ('delivery', 'NN'), ('slots', 'NNS'), ('next', 'IN'), ('3', 'CD'), ('weeks', 'NNS'), ('find', 'VBP'), ('slightly', 'RB'), ('unlikely', 'JJ'), (\"'\", \"''\"), (']', 'NN')]\n",
            "[('[', 'JJ'), (\"'105857\", 'POS'), ('particular', 'JJ'), ('app', 'NN'), ('seems', 'VBZ'), ('cause', 'VBP'), ('issues', 'NNS'), ('others', 'NNS'), ('model', 'VBP'), ('iphone', 'NN'), ('using', 'VBG'), ('join', 'VB'), ('us', 'PRP'), ('dm', 'VB'), ('httpstcogdrqu22ypt', 'NN'), (\"'\", \"''\"), (']', 'NN')]\n",
            "[('[', 'JJ'), (\"'applesupport\", 'POS'), ('latest', 'JJS'), ('version', 'NN'), ('ios', 'NNS'), ('started', 'VBD'), ('immediately', 'RB'), ('updated', 'VBN'), ('phone', 'NN'), (\"'\", \"''\"), (']', 'NN')]\n",
            "[('[', 'JJ'), (\"'105857\", 'POS'), ('wed', 'VBN'), ('like', 'IN'), ('help', 'NN'), ('start', 'VB'), ('happening', 'VBG'), ('version', 'NN'), ('ios', 'NNS'), ('running', 'VBG'), ('currently', 'RB'), (\"'\", 'POS'), (']', 'NN')]\n",
            "[('[', 'JJ'), (\"'my\", 'POS'), ('apps', 'NN'), ('stop', 'NN'), ('working', 'VBG'), ('without', 'IN'), ('warning', 'VBG'), ('phone', 'NN'), ('freezes', 'NNS'), ('every', 'DT'), ('five', 'CD'), ('minutes', 'NNS'), ('love', 'VBP'), ('new', 'JJ'), ('update', 'JJ'), ('76099', 'CD'), (\"'\", 'POS'), (']', 'NN')]\n",
            "[('[', 'JJ'), (\"'105858\", 'POS'), ('hi', 'NN'), ('agoura', 'NN'), ('thanks', 'NNS'), ('tweeting', 'VBG'), ('please', 'NN'), ('refer', 'VB'), ('article', 'NN'), ('httpstcobssgjzartc', 'NN'), ('amp', 'NN'), ('click', 'NN'), ('link', 'NN'), ('reply', 'VB'), ('back', 'RB'), ('rashmi', 'JJ'), ('httpstcoa2xkfcrug1', 'NN'), (\"'\", 'POS'), (']', 'NN')]\n",
            "[('[', 'JJ'), (\"'hpsupport\", 'NN'), ('problem', 'NN'), ('printhead', 'VBP'), ('serial', 'JJ'), ('th536d1hn', 'NN'), ('hpcswus', 'NN'), ('hpprnt', 'NN'), (\"'\", 'POS'), (']', 'NN')]\n",
            "[('[', 'JJ'), (\"'105859\", 'POS'), ('ups', 'JJ'), ('service', 'NN'), ('called', 'VBN'), ('choice', 'NN'), ('allow', 'NN'), ('packages', 'NNS'), ('delivered', 'VBN'), ('ups', 'JJ'), ('store', 'NN'), ('ml', 'NN'), ('httpstcobpzkndqww1', 'NN'), ('httpstcowkjhdxwgrq', 'NN'), (\"'\", 'POS'), (']', 'NN')]\n",
            "[('[', 'NN'), (\"'105860\", 'POS'), ('wish', 'JJ'), ('amazon', 'NN'), ('option', 'NN'), ('get', 'NN'), ('shipped', 'VBN'), ('ups', 'NNS'), ('store', 'VBP'), ('avoid', 'JJ'), ('lot', 'NN'), ('struggle', 'NN'), (\"'\", 'POS'), (']', 'NN')]\n",
            "[('[', 'NN'), (\"'they\", 'POS'), ('reschedule', 'NN'), ('shit', 'NN'), ('tomorrow', 'NN'), ('httpstcorsvzct982t', 'NN'), (\"'\", 'POS'), (']', 'NN')]\n",
            "[('[', 'JJ'), (\"'105861\", 'POS'), ('hey', 'NN'), ('sara', 'NN'), ('sorry', 'JJ'), ('hear', 'JJ'), ('issues', 'NNS'), ('ask', 'VB'), ('lay', 'NNS'), ('speed', 'VB'), ('website', 'JJ'), ('responding', 'VBG'), ('ty', 'JJ'), ('chris', 'NN'), (\"'\", 'POS'), (']', 'NN')]\n",
            "[('[', 'RB'), (\"'tesco\", 'POS'), ('bit', 'NN'), ('finding', 'VBG'), ('layout', 'CC'), ('cumbersome', 'JJ'), ('removing', 'VBG'), ('item', 'NN'), ('faves', 'VBZ'), ('getting', 'VBG'), ('huge', 'JJ'), ('slowdown', 'NN'), ('keen', 'NNS'), ('thin', 'JJ'), ('green', 'JJ'), ('line', 'NN'), ('httpstco9281okeebk', 'NN'), (\"'\", 'POS'), (']', 'NN')]\n",
            "[('[', 'JJ'), (\"'105861\", 'POS'), ('doesnt', 'NN'), ('help', 'NN'), ('please', 'VB'), ('dm', 'JJ'), ('full', 'JJ'), ('name', 'NN'), ('address', 'JJ'), ('email', 'NN'), ('including', 'VBG'), ('browser', 'NN'), ('device', 'NN'), ('log', 'NN'), ('thanks', 'NNS'), ('lee', 'VBD'), ('22', 'CD'), (\"'\", \"''\"), (']', 'NN')]\n"
          ]
        }
      ]
    },
    {
      "cell_type": "markdown",
      "source": [
        "**Removal of Emoticons and Emojis**\n",
        ":-) is an emoticon\n",
        "\n",
        "😀 is an emoji"
      ],
      "metadata": {
        "id": "sJ4TXdFPom04"
      }
    },
    {
      "cell_type": "code",
      "source": [
        "def remove_emoji(string):\n",
        "    emoji_pattern = re.compile(\"[\"\n",
        "                           u\"\\U0001F600-\\U0001F64F\"  # emoticons\n",
        "                           u\"\\U0001F300-\\U0001F5FF\"  # symbols & pictographs\n",
        "                           u\"\\U0001F680-\\U0001F6FF\"  # transport & map symbols\n",
        "                           u\"\\U0001F1E0-\\U0001F1FF\"  # flags (iOS)\n",
        "                           u\"\\U00002702-\\U000027B0\"\n",
        "                           u\"\\U000024C2-\\U0001F251\"\n",
        "                           \"]+\", flags=re.UNICODE)\n",
        "    return emoji_pattern.sub(r'', string)\n",
        "\n",
        "remove_emoji(\"It is really getting hot this summer 🔥🔥\")"
      ],
      "metadata": {
        "colab": {
          "base_uri": "https://localhost:8080/",
          "height": 35
        },
        "id": "zO2tj_z0oyC-",
        "outputId": "573c0e09-c2c5-41ea-9df8-93e037556da4"
      },
      "execution_count": 67,
      "outputs": [
        {
          "output_type": "execute_result",
          "data": {
            "application/vnd.google.colaboratory.intrinsic+json": {
              "type": "string"
            },
            "text/plain": [
              "'It is really getting hot this summer '"
            ]
          },
          "metadata": {},
          "execution_count": 67
        }
      ]
    },
    {
      "cell_type": "code",
      "source": [
        "EMOTICONS=[':-<',':->']\n",
        "def remove_emoticons(text):\n",
        "    emoticon_pattern = re.compile(u'(' + u'|'.join(k for k in EMOTICONS) + u')')\n",
        "    return emoticon_pattern.sub(r'', text)\n",
        "\n",
        "remove_emoticons(\"Hello.We are so happy to see you :->\")"
      ],
      "metadata": {
        "colab": {
          "base_uri": "https://localhost:8080/",
          "height": 35
        },
        "id": "w0EGM_ewpAsS",
        "outputId": "56063937-2b17-4fd9-c80d-ddcdb3b01b3f"
      },
      "execution_count": 74,
      "outputs": [
        {
          "output_type": "execute_result",
          "data": {
            "application/vnd.google.colaboratory.intrinsic+json": {
              "type": "string"
            },
            "text/plain": [
              "'Hello.We are so happy to see you '"
            ]
          },
          "metadata": {},
          "execution_count": 74
        }
      ]
    },
    {
      "cell_type": "markdown",
      "source": [
        "**Removal of URLs**"
      ],
      "metadata": {
        "id": "2wZva7SQrUO5"
      }
    },
    {
      "cell_type": "code",
      "source": [
        "def remove_urls(text):\n",
        "    url_pattern = re.compile(r'https?://\\S+|www\\.\\S+')\n",
        "    return url_pattern.sub(r'', text)"
      ],
      "metadata": {
        "id": "Ay3EeohUrJty"
      },
      "execution_count": 75,
      "outputs": []
    },
    {
      "cell_type": "code",
      "source": [
        "text = \"Please visit our website https://www.isquareit.edu.in\"\n",
        "remove_urls(text)"
      ],
      "metadata": {
        "colab": {
          "base_uri": "https://localhost:8080/",
          "height": 35
        },
        "id": "N13y6Isarnqo",
        "outputId": "c5879bc5-1365-4275-e611-26ddf1ddecc2"
      },
      "execution_count": 76,
      "outputs": [
        {
          "output_type": "execute_result",
          "data": {
            "application/vnd.google.colaboratory.intrinsic+json": {
              "type": "string"
            },
            "text/plain": [
              "'Please visit our website '"
            ]
          },
          "metadata": {},
          "execution_count": 76
        }
      ]
    },
    {
      "cell_type": "code",
      "source": [
        "df[\"text_wo_url\"]=df[\"text_wo_stop\"].apply(lambda text: remove_urls(text))"
      ],
      "metadata": {
        "id": "XxVoV1YZr4Mi"
      },
      "execution_count": 80,
      "outputs": []
    },
    {
      "cell_type": "code",
      "source": [
        "df.head()"
      ],
      "metadata": {
        "colab": {
          "base_uri": "https://localhost:8080/",
          "height": 826
        },
        "id": "blp-kYCwsudK",
        "outputId": "04e72325-0412-403a-82dc-726ce543df8f"
      },
      "execution_count": 81,
      "outputs": [
        {
          "output_type": "execute_result",
          "data": {
            "text/html": [
              "\n",
              "  <div id=\"df-ef5d0fe5-1293-494c-8949-f84817867548\">\n",
              "    <div class=\"colab-df-container\">\n",
              "      <div>\n",
              "<style scoped>\n",
              "    .dataframe tbody tr th:only-of-type {\n",
              "        vertical-align: middle;\n",
              "    }\n",
              "\n",
              "    .dataframe tbody tr th {\n",
              "        vertical-align: top;\n",
              "    }\n",
              "\n",
              "    .dataframe thead th {\n",
              "        text-align: right;\n",
              "    }\n",
              "</style>\n",
              "<table border=\"1\" class=\"dataframe\">\n",
              "  <thead>\n",
              "    <tr style=\"text-align: right;\">\n",
              "      <th></th>\n",
              "      <th>tweet_id</th>\n",
              "      <th>author_id</th>\n",
              "      <th>inbound</th>\n",
              "      <th>created_at</th>\n",
              "      <th>text</th>\n",
              "      <th>response_tweet_id</th>\n",
              "      <th>in_response_to_tweet_id</th>\n",
              "      <th>clean_msg</th>\n",
              "      <th>new_text</th>\n",
              "      <th>msg_tokenied</th>\n",
              "      <th>text_wo_stop</th>\n",
              "      <th>text_stemmed</th>\n",
              "      <th>text_lemmatized</th>\n",
              "      <th>text_wo_url</th>\n",
              "    </tr>\n",
              "  </thead>\n",
              "  <tbody>\n",
              "    <tr>\n",
              "      <th>0</th>\n",
              "      <td>119237</td>\n",
              "      <td>105834</td>\n",
              "      <td>True</td>\n",
              "      <td>Wed Oct 11 06:55:44 +0000 2017</td>\n",
              "      <td>@AppleSupport causing the reply to be disregarded and the tapped notification under the keyboard is opened😡😡😡</td>\n",
              "      <td>119236</td>\n",
              "      <td>NaN</td>\n",
              "      <td>applesupport causing the reply to be disregarded and the tapped notification under the keyboard is opened😡😡😡</td>\n",
              "      <td>@applesupport causing the reply to be disregarded and the tapped notification under the keyboard is opened😡😡😡</td>\n",
              "      <td>[applesupport causing the reply to be disregarded and the tapped notification under the keyboard is opened😡😡😡]</td>\n",
              "      <td>['applesupport causing reply disregarded tapped notification keyboard opened😡😡😡']</td>\n",
              "      <td>@applesupport caus the repli to be disregard and the tap notif under the keyboard is opened😡😡😡</td>\n",
              "      <td>['applesupport causing reply disregarded tapped notification keyboard opened😡😡😡']</td>\n",
              "      <td>['applesupport causing reply disregarded tapped notification keyboard opened😡😡😡']</td>\n",
              "    </tr>\n",
              "    <tr>\n",
              "      <th>1</th>\n",
              "      <td>119238</td>\n",
              "      <td>ChaseSupport</td>\n",
              "      <td>False</td>\n",
              "      <td>Wed Oct 11 13:25:49 +0000 2017</td>\n",
              "      <td>@105835 Your business means a lot to us. Please DM your name, zip code and additional details about your concern. ^RR https://t.co/znUu1VJn9r</td>\n",
              "      <td>NaN</td>\n",
              "      <td>119239.0</td>\n",
              "      <td>105835 your business means a lot to us please dm your name zip code and additional details about your concern rr httpstcoznuu1vjn9r</td>\n",
              "      <td>@105835 your business means a lot to us. please dm your name, zip code and additional details about your concern. ^rr https://t.co/znuu1vjn9r</td>\n",
              "      <td>[105835 your business means a lot to us please dm your name zip code and additional details about your concern rr httpstcoznuu1vjn9r]</td>\n",
              "      <td>['105835 business means lot us please dm name zip code additional details concern rr httpstcoznuu1vjn9r']</td>\n",
              "      <td>@105835 your busi mean a lot to us. pleas DM your name, zip code and addit detail about your concern. ^rr https://t.co/znuu1vjn9r</td>\n",
              "      <td>['105835 business mean lot u please dm name zip code additional detail concern rr httpstcoznuu1vjn9r']</td>\n",
              "      <td>['105835 business means lot us please dm name zip code additional details concern rr httpstcoznuu1vjn9r']</td>\n",
              "    </tr>\n",
              "    <tr>\n",
              "      <th>2</th>\n",
              "      <td>119239</td>\n",
              "      <td>105835</td>\n",
              "      <td>True</td>\n",
              "      <td>Wed Oct 11 13:00:09 +0000 2017</td>\n",
              "      <td>@76328 I really hope you all change but I'm sure you won't! Because you don't have to!</td>\n",
              "      <td>119238</td>\n",
              "      <td>NaN</td>\n",
              "      <td>76328 i really hope you all change but im sure you wont because you dont have to</td>\n",
              "      <td>@76328 i really hope you all change but i'm sure you won't! because you don't have to!</td>\n",
              "      <td>[76328 i really hope you all change but im sure you wont because you dont have to]</td>\n",
              "      <td>['76328 really hope change im sure wont dont to']</td>\n",
              "      <td>@76328 I realli hope you all chang but i'm sure you won't! becaus you don't have to!</td>\n",
              "      <td>['76328 really hope change im sure wont dont to']</td>\n",
              "      <td>['76328 really hope change im sure wont dont to']</td>\n",
              "    </tr>\n",
              "    <tr>\n",
              "      <th>3</th>\n",
              "      <td>119240</td>\n",
              "      <td>VirginTrains</td>\n",
              "      <td>False</td>\n",
              "      <td>Tue Oct 10 15:16:08 +0000 2017</td>\n",
              "      <td>@105836 LiveChat is online at the moment - https://t.co/SY94VtU8Kq or contact 03331 031 031 option 1, 4, 3 (Leave a message) to request a call back</td>\n",
              "      <td>119241</td>\n",
              "      <td>119242.0</td>\n",
              "      <td>105836 livechat is online at the moment  httpstcosy94vtu8kq or contact 03331 031 031 option 1 4 3 leave a message to request a call back</td>\n",
              "      <td>@105836 livechat is online at the moment - https://t.co/sy94vtu8kq or contact 03331 031 031 option 1, 4, 3 (leave a message) to request a call back</td>\n",
              "      <td>[105836 livechat is online at the moment  httpstcosy94vtu8kq or contact 03331 031 031 option 1 4 3 leave a message to request a call back]</td>\n",
              "      <td>['105836 livechat online moment httpstcosy94vtu8kq contact 03331 031 031 option 1 4 3 leave message request call back']</td>\n",
              "      <td>@105836 livechat is onlin at the moment - https://t.co/sy94vtu8kq or contact 03331 031 031 option 1, 4, 3 (leav a message) to request a call back</td>\n",
              "      <td>['105836 livechat online moment httpstcosy94vtu8kq contact 03331 031 031 option 1 4 3 leave message request call back']</td>\n",
              "      <td>['105836 livechat online moment httpstcosy94vtu8kq contact 03331 031 031 option 1 4 3 leave message request call back']</td>\n",
              "    </tr>\n",
              "    <tr>\n",
              "      <th>4</th>\n",
              "      <td>119241</td>\n",
              "      <td>105836</td>\n",
              "      <td>True</td>\n",
              "      <td>Tue Oct 10 15:17:21 +0000 2017</td>\n",
              "      <td>@VirginTrains see attached error message. I've tried leaving a voicemail several times in the past week https://t.co/NxVZjlYx1k</td>\n",
              "      <td>119243</td>\n",
              "      <td>119240.0</td>\n",
              "      <td>virgintrains see attached error message ive tried leaving a voicemail several times in the past week httpstconxvzjlyx1k</td>\n",
              "      <td>@virgintrains see attached error message. i've tried leaving a voicemail several times in the past week https://t.co/nxvzjlyx1k</td>\n",
              "      <td>[virgintrains see attached error message ive tried leaving a voicemail several times in the past week httpstconxvzjlyx1k]</td>\n",
              "      <td>['virgintrains see attached error message ive tried leaving voicemail several times past week httpstconxvzjlyx1k']</td>\n",
              "      <td>@virgintrain see attach error message. i'v tri leav a voicemail sever time in the past week https://t.co/nxvzjlyx1k</td>\n",
              "      <td>['virgintrains see attached error message ive tried leaving voicemail several time past week httpstconxvzjlyx1k']</td>\n",
              "      <td>['virgintrains see attached error message ive tried leaving voicemail several times past week httpstconxvzjlyx1k']</td>\n",
              "    </tr>\n",
              "  </tbody>\n",
              "</table>\n",
              "</div>\n",
              "      <button class=\"colab-df-convert\" onclick=\"convertToInteractive('df-ef5d0fe5-1293-494c-8949-f84817867548')\"\n",
              "              title=\"Convert this dataframe to an interactive table.\"\n",
              "              style=\"display:none;\">\n",
              "        \n",
              "  <svg xmlns=\"http://www.w3.org/2000/svg\" height=\"24px\"viewBox=\"0 0 24 24\"\n",
              "       width=\"24px\">\n",
              "    <path d=\"M0 0h24v24H0V0z\" fill=\"none\"/>\n",
              "    <path d=\"M18.56 5.44l.94 2.06.94-2.06 2.06-.94-2.06-.94-.94-2.06-.94 2.06-2.06.94zm-11 1L8.5 8.5l.94-2.06 2.06-.94-2.06-.94L8.5 2.5l-.94 2.06-2.06.94zm10 10l.94 2.06.94-2.06 2.06-.94-2.06-.94-.94-2.06-.94 2.06-2.06.94z\"/><path d=\"M17.41 7.96l-1.37-1.37c-.4-.4-.92-.59-1.43-.59-.52 0-1.04.2-1.43.59L10.3 9.45l-7.72 7.72c-.78.78-.78 2.05 0 2.83L4 21.41c.39.39.9.59 1.41.59.51 0 1.02-.2 1.41-.59l7.78-7.78 2.81-2.81c.8-.78.8-2.07 0-2.86zM5.41 20L4 18.59l7.72-7.72 1.47 1.35L5.41 20z\"/>\n",
              "  </svg>\n",
              "      </button>\n",
              "      \n",
              "  <style>\n",
              "    .colab-df-container {\n",
              "      display:flex;\n",
              "      flex-wrap:wrap;\n",
              "      gap: 12px;\n",
              "    }\n",
              "\n",
              "    .colab-df-convert {\n",
              "      background-color: #E8F0FE;\n",
              "      border: none;\n",
              "      border-radius: 50%;\n",
              "      cursor: pointer;\n",
              "      display: none;\n",
              "      fill: #1967D2;\n",
              "      height: 32px;\n",
              "      padding: 0 0 0 0;\n",
              "      width: 32px;\n",
              "    }\n",
              "\n",
              "    .colab-df-convert:hover {\n",
              "      background-color: #E2EBFA;\n",
              "      box-shadow: 0px 1px 2px rgba(60, 64, 67, 0.3), 0px 1px 3px 1px rgba(60, 64, 67, 0.15);\n",
              "      fill: #174EA6;\n",
              "    }\n",
              "\n",
              "    [theme=dark] .colab-df-convert {\n",
              "      background-color: #3B4455;\n",
              "      fill: #D2E3FC;\n",
              "    }\n",
              "\n",
              "    [theme=dark] .colab-df-convert:hover {\n",
              "      background-color: #434B5C;\n",
              "      box-shadow: 0px 1px 3px 1px rgba(0, 0, 0, 0.15);\n",
              "      filter: drop-shadow(0px 1px 2px rgba(0, 0, 0, 0.3));\n",
              "      fill: #FFFFFF;\n",
              "    }\n",
              "  </style>\n",
              "\n",
              "      <script>\n",
              "        const buttonEl =\n",
              "          document.querySelector('#df-ef5d0fe5-1293-494c-8949-f84817867548 button.colab-df-convert');\n",
              "        buttonEl.style.display =\n",
              "          google.colab.kernel.accessAllowed ? 'block' : 'none';\n",
              "\n",
              "        async function convertToInteractive(key) {\n",
              "          const element = document.querySelector('#df-ef5d0fe5-1293-494c-8949-f84817867548');\n",
              "          const dataTable =\n",
              "            await google.colab.kernel.invokeFunction('convertToInteractive',\n",
              "                                                     [key], {});\n",
              "          if (!dataTable) return;\n",
              "\n",
              "          const docLinkHtml = 'Like what you see? Visit the ' +\n",
              "            '<a target=\"_blank\" href=https://colab.research.google.com/notebooks/data_table.ipynb>data table notebook</a>'\n",
              "            + ' to learn more about interactive tables.';\n",
              "          element.innerHTML = '';\n",
              "          dataTable['output_type'] = 'display_data';\n",
              "          await google.colab.output.renderOutput(dataTable, element);\n",
              "          const docLink = document.createElement('div');\n",
              "          docLink.innerHTML = docLinkHtml;\n",
              "          element.appendChild(docLink);\n",
              "        }\n",
              "      </script>\n",
              "    </div>\n",
              "  </div>\n",
              "  "
            ],
            "text/plain": [
              "   tweet_id     author_id  inbound                      created_at  \\\n",
              "0    119237        105834     True  Wed Oct 11 06:55:44 +0000 2017   \n",
              "1    119238  ChaseSupport    False  Wed Oct 11 13:25:49 +0000 2017   \n",
              "2    119239        105835     True  Wed Oct 11 13:00:09 +0000 2017   \n",
              "3    119240  VirginTrains    False  Tue Oct 10 15:16:08 +0000 2017   \n",
              "4    119241        105836     True  Tue Oct 10 15:17:21 +0000 2017   \n",
              "\n",
              "                                                                                                                                                  text  \\\n",
              "0                                        @AppleSupport causing the reply to be disregarded and the tapped notification under the keyboard is opened😡😡😡   \n",
              "1        @105835 Your business means a lot to us. Please DM your name, zip code and additional details about your concern. ^RR https://t.co/znUu1VJn9r   \n",
              "2                                                               @76328 I really hope you all change but I'm sure you won't! Because you don't have to!   \n",
              "3  @105836 LiveChat is online at the moment - https://t.co/SY94VtU8Kq or contact 03331 031 031 option 1, 4, 3 (Leave a message) to request a call back   \n",
              "4                      @VirginTrains see attached error message. I've tried leaving a voicemail several times in the past week https://t.co/NxVZjlYx1k   \n",
              "\n",
              "  response_tweet_id  in_response_to_tweet_id  \\\n",
              "0            119236                      NaN   \n",
              "1               NaN                 119239.0   \n",
              "2            119238                      NaN   \n",
              "3            119241                 119242.0   \n",
              "4            119243                 119240.0   \n",
              "\n",
              "                                                                                                                                  clean_msg  \\\n",
              "0                              applesupport causing the reply to be disregarded and the tapped notification under the keyboard is opened😡😡😡   \n",
              "1       105835 your business means a lot to us please dm your name zip code and additional details about your concern rr httpstcoznuu1vjn9r   \n",
              "2                                                          76328 i really hope you all change but im sure you wont because you dont have to   \n",
              "3  105836 livechat is online at the moment  httpstcosy94vtu8kq or contact 03331 031 031 option 1 4 3 leave a message to request a call back   \n",
              "4                   virgintrains see attached error message ive tried leaving a voicemail several times in the past week httpstconxvzjlyx1k   \n",
              "\n",
              "                                                                                                                                              new_text  \\\n",
              "0                                        @applesupport causing the reply to be disregarded and the tapped notification under the keyboard is opened😡😡😡   \n",
              "1        @105835 your business means a lot to us. please dm your name, zip code and additional details about your concern. ^rr https://t.co/znuu1vjn9r   \n",
              "2                                                               @76328 i really hope you all change but i'm sure you won't! because you don't have to!   \n",
              "3  @105836 livechat is online at the moment - https://t.co/sy94vtu8kq or contact 03331 031 031 option 1, 4, 3 (leave a message) to request a call back   \n",
              "4                      @virgintrains see attached error message. i've tried leaving a voicemail several times in the past week https://t.co/nxvzjlyx1k   \n",
              "\n",
              "                                                                                                                                 msg_tokenied  \\\n",
              "0                              [applesupport causing the reply to be disregarded and the tapped notification under the keyboard is opened😡😡😡]   \n",
              "1       [105835 your business means a lot to us please dm your name zip code and additional details about your concern rr httpstcoznuu1vjn9r]   \n",
              "2                                                          [76328 i really hope you all change but im sure you wont because you dont have to]   \n",
              "3  [105836 livechat is online at the moment  httpstcosy94vtu8kq or contact 03331 031 031 option 1 4 3 leave a message to request a call back]   \n",
              "4                   [virgintrains see attached error message ive tried leaving a voicemail several times in the past week httpstconxvzjlyx1k]   \n",
              "\n",
              "                                                                                                              text_wo_stop  \\\n",
              "0                                        ['applesupport causing reply disregarded tapped notification keyboard opened😡😡😡']   \n",
              "1                ['105835 business means lot us please dm name zip code additional details concern rr httpstcoznuu1vjn9r']   \n",
              "2                                                                        ['76328 really hope change im sure wont dont to']   \n",
              "3  ['105836 livechat online moment httpstcosy94vtu8kq contact 03331 031 031 option 1 4 3 leave message request call back']   \n",
              "4       ['virgintrains see attached error message ive tried leaving voicemail several times past week httpstconxvzjlyx1k']   \n",
              "\n",
              "                                                                                                                                        text_stemmed  \\\n",
              "0                                                     @applesupport caus the repli to be disregard and the tap notif under the keyboard is opened😡😡😡   \n",
              "1                  @105835 your busi mean a lot to us. pleas DM your name, zip code and addit detail about your concern. ^rr https://t.co/znuu1vjn9r   \n",
              "2                                                               @76328 I realli hope you all chang but i'm sure you won't! becaus you don't have to!   \n",
              "3  @105836 livechat is onlin at the moment - https://t.co/sy94vtu8kq or contact 03331 031 031 option 1, 4, 3 (leav a message) to request a call back   \n",
              "4                                @virgintrain see attach error message. i'v tri leav a voicemail sever time in the past week https://t.co/nxvzjlyx1k   \n",
              "\n",
              "                                                                                                           text_lemmatized  \\\n",
              "0                                        ['applesupport causing reply disregarded tapped notification keyboard opened😡😡😡']   \n",
              "1                   ['105835 business mean lot u please dm name zip code additional detail concern rr httpstcoznuu1vjn9r']   \n",
              "2                                                                        ['76328 really hope change im sure wont dont to']   \n",
              "3  ['105836 livechat online moment httpstcosy94vtu8kq contact 03331 031 031 option 1 4 3 leave message request call back']   \n",
              "4        ['virgintrains see attached error message ive tried leaving voicemail several time past week httpstconxvzjlyx1k']   \n",
              "\n",
              "                                                                                                               text_wo_url  \n",
              "0                                        ['applesupport causing reply disregarded tapped notification keyboard opened😡😡😡']  \n",
              "1                ['105835 business means lot us please dm name zip code additional details concern rr httpstcoznuu1vjn9r']  \n",
              "2                                                                        ['76328 really hope change im sure wont dont to']  \n",
              "3  ['105836 livechat online moment httpstcosy94vtu8kq contact 03331 031 031 option 1 4 3 leave message request call back']  \n",
              "4       ['virgintrains see attached error message ive tried leaving voicemail several times past week httpstconxvzjlyx1k']  "
            ]
          },
          "metadata": {},
          "execution_count": 81
        }
      ]
    },
    {
      "cell_type": "markdown",
      "source": [
        "# TF-IDF"
      ],
      "metadata": {
        "id": "mswpUGShug5J"
      }
    },
    {
      "cell_type": "markdown",
      "source": [
        "Term Frequency: \n",
        "The term is frequency measure of a word w in a document (text) d. It is equal to the number of instances of word w in document d divided by the total number of words in document d.\n",
        "![27405Screenshot_1.jpg](data:image/jpeg;base64,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)\n",
        "\n",
        "**Inverse Document Frequency (IDF)**\n",
        "This parameter gives a numeric value of the importance of a word. Inverse Document frequency of word w is defined as the total number of documents (N) in a text corpus D, divided by the number of documents containing w.\n",
        "\n",
        "![80300Screenshot_2.jpg](data:image/jpeg;base64,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)\n",
        "\n",
        "**Term Frequency Inverse Document Frequency (TF-IDF)**\n",
        "The product of TF and IDF is the TF-IDF. TF-IDF is usually one of the best metrics to determine if a term is significant to a text. It represents the importance of a word in a particular document."
      ],
      "metadata": {
        "id": "5Lfx1zc_ukAA"
      }
    },
    {
      "cell_type": "code",
      "source": [
        "from sklearn.feature_extraction.text import TfidfVectorizer"
      ],
      "metadata": {
        "id": "NASf2QwTueBL"
      },
      "execution_count": 84,
      "outputs": []
    },
    {
      "cell_type": "code",
      "source": [
        "#tf idf\n",
        "tf_idf = TfidfVectorizer()\n",
        "#applying tf idf to data\n",
        "data_tf = tf_idf.fit_transform(df['text_wo_url'])"
      ],
      "metadata": {
        "id": "4E3Bou-avxNJ"
      },
      "execution_count": 86,
      "outputs": []
    },
    {
      "cell_type": "code",
      "source": [
        "print(\"n_samples: %d, n_features: %d\" % data_tf.shape)"
      ],
      "metadata": {
        "colab": {
          "base_uri": "https://localhost:8080/"
        },
        "id": "0RNlHyhlwQuC",
        "outputId": "de6b7027-d2a2-4765-d245-24f925d0583d"
      },
      "execution_count": 88,
      "outputs": [
        {
          "output_type": "stream",
          "name": "stdout",
          "text": [
            "n_samples: 93, n_features: 612\n"
          ]
        }
      ]
    }
  ]
}
